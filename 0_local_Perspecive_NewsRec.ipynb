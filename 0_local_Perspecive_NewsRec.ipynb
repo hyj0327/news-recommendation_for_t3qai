{
 "cells": [
  {
   "cell_type": "markdown",
   "id": "2b8ed560-a9f5-4cf5-ba0c-c012f3e790e3",
   "metadata": {},
   "source": [
    "# 로컬 개발 코드\n",
    "- 로컬에서 주피터 노트북(Jupyter Notebook), 주피터 랩(JupyterLab) 또는 파이썬(Python)을 이용한다. \n",
    "- 사이킷 런(scikit-learn), 텐서플로우(tensorflow), 파이토치(pytorch)를 사용하여 딥러닝 프로그램을 개발한다.\n",
    "- 파일명: 0_local_Perspecive_NewsRec.ipynb\n",
    "\n",
    "### 로컬 개발 워크플로우(workflow)  \n",
    "- 로컬 개발 워크플로우를 다음의 4단계로 분리한다.\n",
    "\n",
    "1. 데이터 세트 준비(Data Setup)\n",
    "- 로컬 저장소에서 전처리 및 학습에 필요한 학습 데이터 세트를 준비한다.\n",
    "\n",
    "2. 데이터 전처리(Data Preprocessing)\n",
    "- 데이터 세트의 분석 및 정규화(Normalization)등의 전처리를 수행한다.\n",
    "- 데이터를 모델 학습에 사용할 수 있도록 가공한다.\n",
    "- 추론과정에서 필요한 경우, 데이터 전처리에 사용된 객체를 meta_data 폴더 아래에 저장한다.\n",
    "\n",
    "3. 학습 모델 훈련(Train Model)\n",
    "- 데이터를 훈련에 사용할 수 있도록 가공한 뒤에 학습 모델을 구성한다. \n",
    "- 학습 모델을 준비된 데이터 세트로 훈련시킨다.\n",
    "- 정확도(Accuracy)나 손실(Loss)등 학습 모델의 성능을 검증한다.\n",
    "- 학습 모델의 성능 검증 후, 학습 모델을 배포한다.\n",
    "- 배포할 학습 모델을 meta_data 폴더 아래에 저장한다.\n",
    "\n",
    "4. 추론(Inference)\n",
    "- 저장된 전처리 객체나 학습 모델 객체를 준비한다.\n",
    "- 추론에 필요한 테스트 데이터 세트를 준비한다.\n",
    "- 배포된 학습 모델을 통해 테스트 데이터에 대한 추론을 진행한다. "
   ]
  },
  {
   "cell_type": "code",
   "execution_count": null,
   "id": "c29fd662",
   "metadata": {},
   "outputs": [],
   "source": [
    "pip list"
   ]
  },
  {
   "cell_type": "markdown",
   "id": "52f4b2b2-b9f5-4d81-868b-fee458aa0dba",
   "metadata": {},
   "source": [
    "## 뉴스에 반하다\n",
    "- 이슈성 정보를 다루는 뉴스에서 기존 관점 다른 관점을 제공해 주어 확증 편향을 완화\n",
    "- 비판적인 사고력과 자기 객관화 능력 및 정보 분별력 등의 능력 신장에 도움을 주는 프로그램 구축을 목표로 함.\n",
    "\n",
    "### 사용할 데이터\n",
    "- (기존)매일 22시마다 기사 자동 수집 -> (변경: 고정 DB 사용) 민희진, 밀양사적제재, 북한 오물풍선, 의사 파업, 25만원 총 5개의 키워드로 각각 크롤링한 뉴스 (총 6437개)\n",
    "- json 파일(기사 데이터), npy 파일 (임베딩 데이터)\n",
    "- 문서 요약 데이터 (AI-HUB 제공)\n",
    "\n",
    "### 사용할 요소\n",
    "- 뉴스 제목, 링크, 기사본문\n",
    "- 요약모델 훈련을 위해 문서 요약 데이터 사용\n",
    "- 수집한 기사 본문 바탕으로 요약문장 뽑아내기."
   ]
  },
  {
   "cell_type": "code",
   "execution_count": null,
   "id": "db3e1822-3889-469c-83fc-05cbefa9ba3e",
   "metadata": {},
   "outputs": [],
   "source": [
    "# Imports\n",
    "import zipfile\n",
    "import numpy as np\n",
    "import json\n",
    " \n",
    "import pandas as pd\n",
    "from sklearn.model_selection import train_test_split\n",
    "\n",
    "\n",
    "import math\n",
    "import pandas as pd\n",
    "import numpy as np\n",
    "\n",
    "from tqdm.auto import tqdm\n",
    "\n",
    "import torch\n",
    "import torch.nn as nn\n",
    "from torch.utils.data import Dataset, DataLoader\n",
    "\n",
    "import torch.optim as optim\n",
    "\n",
    "from transformers import BertModel, BertTokenizer, AdamW, get_linear_schedule_with_warmup\n",
    "\n",
    "from torch.nn.init import xavier_uniform_\n",
    "\n",
    "import pytorch_lightning as pl\n",
    "from pytorch_lightning.metrics.functional import accuracy, f1, auroc\n",
    "from pytorch_lightning.callbacks import ModelCheckpoint, EarlyStopping\n",
    "from pytorch_lightning.loggers import TensorBoardLogger\n",
    "\n",
    "from sklearn.model_selection import train_test_split\n",
    "from sklearn.metrics import classification_report, multilabel_confusion_matrix\n",
    "\n",
    "import seaborn as sns\n",
    "from pylab import rcParams\n",
    "import matplotlib.pyplot as plt\n",
    "from matplotlib import rc\n",
    "\n",
    "import kss\n",
    "\n",
    "\n",
    "from sentence_transformers import SentenceTransformer\n"
   ]
  },
  {
   "cell_type": "markdown",
   "id": "bc7247ba-2b2f-468e-bc04-ca64b66d73d2",
   "metadata": {},
   "source": [
    "## **1. 데이터셋 준비(Data Setup)**"
   ]
  },
  {
   "cell_type": "code",
   "execution_count": 2,
   "id": "8fe3d6ae-1deb-407a-9855-7bef893c0136",
   "metadata": {},
   "outputs": [],
   "source": [
    "# dataset.zip 파일 압축 풀기\n",
    "zip_source_path = './dataset.zip'\n",
    "zip_target_path = './meta_data'\n",
    "\n",
    "extract_zip_file = zipfile.ZipFile(zip_source_path)\n",
    "extract_zip_file.extractall(zip_target_path)\n",
    " \n",
    "extract_zip_file.close()"
   ]
  },
  {
   "cell_type": "markdown",
   "id": "983fea1f-45d0-4c30-b641-15b63fc117e3",
   "metadata": {},
   "source": [
    "### 뉴스 데이터셋"
   ]
  },
  {
   "cell_type": "code",
   "execution_count": 3,
   "id": "2d4a017f-3131-473e-8be8-146b2df2d44e",
   "metadata": {},
   "outputs": [],
   "source": [
    "my_path = './meta_data/dataset/'\n",
    "\n",
    "# 뉴스 데이터셋\n",
    "dataset='news.json'\n",
    "news_dataset=pd.read_json(my_path+dataset)"
   ]
  },
  {
   "cell_type": "code",
   "execution_count": 4,
   "id": "2d728d91-2648-4b6d-a345-5227ec8df9a2",
   "metadata": {
    "scrolled": true
   },
   "outputs": [
    {
     "data": {
      "text/html": [
       "<div>\n",
       "<style scoped>\n",
       "    .dataframe tbody tr th:only-of-type {\n",
       "        vertical-align: middle;\n",
       "    }\n",
       "\n",
       "    .dataframe tbody tr th {\n",
       "        vertical-align: top;\n",
       "    }\n",
       "\n",
       "    .dataframe thead th {\n",
       "        text-align: right;\n",
       "    }\n",
       "</style>\n",
       "<table border=\"1\" class=\"dataframe\">\n",
       "  <thead>\n",
       "    <tr style=\"text-align: right;\">\n",
       "      <th></th>\n",
       "      <th>index</th>\n",
       "      <th>title</th>\n",
       "      <th>link</th>\n",
       "      <th>article</th>\n",
       "    </tr>\n",
       "  </thead>\n",
       "  <tbody>\n",
       "    <tr>\n",
       "      <th>1057</th>\n",
       "      <td>1057</td>\n",
       "      <td>민희진 ‘배임’ 고발한 하이브…경찰 “이번 주 고소인 조사”</td>\n",
       "      <td>https://n.news.naver.com/mnews/article/018/000...</td>\n",
       "      <td>연예기획사 하이브(352820)가 자회사 어도어의 대표 민희진 대표를 고발한 사건...</td>\n",
       "    </tr>\n",
       "    <tr>\n",
       "      <th>3610</th>\n",
       "      <td>3610</td>\n",
       "      <td>오물풍선 안에는 담배꽁초 있었다</td>\n",
       "      <td>https://n.news.naver.com/mnews/article/421/000...</td>\n",
       "      <td>박지혜 기자  북한이 지난 1일 저녁부터 남한으로 날려보낸 오물풍선이 600개에 ...</td>\n",
       "    </tr>\n",
       "    <tr>\n",
       "      <th>6172</th>\n",
       "      <td>6172</td>\n",
       "      <td>영수회담 '정치 선전의 場' 변질…민주, 대통령실에 무리한 요구</td>\n",
       "      <td>https://n.news.naver.com/mnews/article/088/000...</td>\n",
       "      <td>민주당, 대여 공세에 사전 실무회동 소득없이 끝나대통령실 정무수석 폭넓은 대화 해달...</td>\n",
       "    </tr>\n",
       "    <tr>\n",
       "      <th>315</th>\n",
       "      <td>315</td>\n",
       "      <td>이번엔 ‘노란 가디건’... 민희진 회견 룩 또 화제</td>\n",
       "      <td>https://n.news.naver.com/mnews/article/023/000...</td>\n",
       "      <td>유임에 성공한 민희진 어도어 대표가 2차 기자회견에 나선 가운데, 민 대표의 ‘기자...</td>\n",
       "    </tr>\n",
       "    <tr>\n",
       "      <th>3323</th>\n",
       "      <td>3323</td>\n",
       "      <td>정부, 북한 `오물 풍선` 피해 국민 지원한다</td>\n",
       "      <td>https://n.news.naver.com/mnews/article/029/000...</td>\n",
       "      <td>정부가 북한의 오물 풍선 살포로 피해를 본 국민 지원에 나선다.행정안전부는 4일 이...</td>\n",
       "    </tr>\n",
       "  </tbody>\n",
       "</table>\n",
       "</div>"
      ],
      "text/plain": [
       "      index                                title  \\\n",
       "1057   1057    민희진 ‘배임’ 고발한 하이브…경찰 “이번 주 고소인 조사”   \n",
       "3610   3610                    오물풍선 안에는 담배꽁초 있었다   \n",
       "6172   6172  영수회담 '정치 선전의 場' 변질…민주, 대통령실에 무리한 요구   \n",
       "315     315        이번엔 ‘노란 가디건’... 민희진 회견 룩 또 화제   \n",
       "3323   3323            정부, 북한 `오물 풍선` 피해 국민 지원한다   \n",
       "\n",
       "                                                   link  \\\n",
       "1057  https://n.news.naver.com/mnews/article/018/000...   \n",
       "3610  https://n.news.naver.com/mnews/article/421/000...   \n",
       "6172  https://n.news.naver.com/mnews/article/088/000...   \n",
       "315   https://n.news.naver.com/mnews/article/023/000...   \n",
       "3323  https://n.news.naver.com/mnews/article/029/000...   \n",
       "\n",
       "                                                article  \n",
       "1057   연예기획사 하이브(352820)가 자회사 어도어의 대표 민희진 대표를 고발한 사건...  \n",
       "3610   박지혜 기자  북한이 지난 1일 저녁부터 남한으로 날려보낸 오물풍선이 600개에 ...  \n",
       "6172  민주당, 대여 공세에 사전 실무회동 소득없이 끝나대통령실 정무수석 폭넓은 대화 해달...  \n",
       "315   유임에 성공한 민희진 어도어 대표가 2차 기자회견에 나선 가운데, 민 대표의 ‘기자...  \n",
       "3323  정부가 북한의 오물 풍선 살포로 피해를 본 국민 지원에 나선다.행정안전부는 4일 이...  "
      ]
     },
     "execution_count": 4,
     "metadata": {},
     "output_type": "execute_result"
    }
   ],
   "source": [
    "# 뉴스 기사 예시 5개\n",
    "news_dataset.sample(5)"
   ]
  },
  {
   "cell_type": "code",
   "execution_count": 5,
   "id": "a262b609-3d59-4862-9601-3c2df2d8db35",
   "metadata": {},
   "outputs": [
    {
     "name": "stdout",
     "output_type": "stream",
     "text": [
      "( 뉴스기사 수 , 컬럼 수)\n",
      "(6437, 4)\n"
     ]
    }
   ],
   "source": [
    "print(\"( 뉴스기사 수 , 컬럼 수)\")\n",
    "print(news_dataset.shape)"
   ]
  },
  {
   "cell_type": "markdown",
   "id": "ce121e58-7a82-48ab-bfca-3bc1b54ae645",
   "metadata": {},
   "source": [
    "### 저장된 뉴스들의 요약 임베딩 데이터"
   ]
  },
  {
   "cell_type": "code",
   "execution_count": 6,
   "id": "76c89107-2525-4ab9-b0fb-044f9f0e60f6",
   "metadata": {},
   "outputs": [],
   "source": [
    "# 뉴스 요약 임베딩 데이터\n",
    "dataset='summary_embedding.npy'\n",
    "summary_embedding_dataset=np.load(my_path+dataset)"
   ]
  },
  {
   "cell_type": "code",
   "execution_count": 7,
   "id": "bbe09e20-95ea-4f8b-bba3-fe24accb7fc9",
   "metadata": {},
   "outputs": [
    {
     "name": "stdout",
     "output_type": "stream",
     "text": [
      "( 뉴스 개수 ,임베딩 차원 )\n"
     ]
    },
    {
     "data": {
      "text/plain": [
       "(6437, 128)"
      ]
     },
     "execution_count": 7,
     "metadata": {},
     "output_type": "execute_result"
    }
   ],
   "source": [
    "print(\"( 뉴스 개수 ,임베딩 차원 )\")\n",
    "summary_embedding_dataset.shape"
   ]
  },
  {
   "cell_type": "code",
   "execution_count": 8,
   "id": "be29d176-6ab0-4fc1-b4b6-693cae19a1bf",
   "metadata": {
    "scrolled": true
   },
   "outputs": [
    {
     "data": {
      "text/plain": [
       "array([-2.80979604e-01,  6.20539337e-02, -6.83445334e-02, -1.19693622e-01,\n",
       "        2.08823726e-01, -1.24537600e-02,  1.18500881e-01,  2.92633682e-01,\n",
       "        1.27883732e-01, -1.22530796e-01,  1.88773751e-01,  1.58757374e-01,\n",
       "        7.53097832e-02,  9.50985700e-02,  1.99547485e-02,  1.87469363e-01,\n",
       "        2.95771599e-01,  9.03890282e-02,  1.81211784e-01,  5.51250339e-01,\n",
       "        4.68128473e-02, -1.96054339e-01, -2.05385476e-01,  2.59385973e-01,\n",
       "       -2.40323737e-01, -1.36626616e-01,  4.44304973e-01, -2.42111281e-01,\n",
       "       -4.77627926e-02,  2.79585384e-02, -3.09917122e-01,  1.79996401e-01,\n",
       "        1.54761756e-02, -1.70492396e-01, -3.24941099e-01, -8.85238275e-02,\n",
       "        1.71700209e-01, -1.93334967e-02,  1.79288030e-01, -4.81512427e-01,\n",
       "        1.27589509e-01,  7.58003443e-05, -2.44617552e-01, -4.17773165e-02,\n",
       "       -1.59207672e-01,  2.16412395e-02,  2.14116201e-01,  9.37071070e-02,\n",
       "       -2.15679660e-01, -1.72768682e-01,  2.53318340e-01, -1.23410642e-01,\n",
       "       -2.44821072e-01, -3.28746915e-01, -2.58230209e-01,  1.05982825e-01,\n",
       "       -3.59924440e-03, -1.01242088e-01, -1.01576731e-01, -8.44142437e-02,\n",
       "        1.48059860e-01,  1.46052716e-02,  2.17478797e-01,  2.69541532e-01,\n",
       "        1.02762133e-05, -2.64144659e-01, -1.19165450e-01,  1.50048152e-01,\n",
       "        8.67998824e-02, -2.57185876e-01, -1.13905616e-01, -4.41240659e-03,\n",
       "        1.14259906e-01,  1.36371166e-01, -1.90132752e-01, -1.94488063e-01,\n",
       "        4.13919896e-01, -3.44066501e-01,  2.92964756e-01, -1.62649184e-01,\n",
       "        9.74547770e-03, -1.11651383e-01, -6.55310899e-02, -3.39726925e-01,\n",
       "        7.99174979e-02, -1.42821565e-01, -1.11291260e-01, -3.00508142e-01,\n",
       "        5.37751652e-02,  1.71349391e-01, -2.84691840e-01,  3.27201039e-02,\n",
       "       -2.50546962e-01,  1.70688599e-01, -2.44593665e-01,  3.17729115e-01,\n",
       "        4.02716070e-01, -1.70131773e-01, -9.65653807e-02,  2.01350719e-01,\n",
       "        1.56636849e-01,  1.92686573e-01,  2.73971826e-01,  1.20396025e-01,\n",
       "        3.65866840e-01, -1.01585582e-01,  1.60898671e-01,  1.91246435e-01,\n",
       "       -1.90956607e-01, -1.84263036e-01, -6.17366023e-02, -8.01492110e-02,\n",
       "        4.17187475e-02, -1.08386442e-01, -1.29042193e-01,  7.14366436e-02,\n",
       "       -2.84157693e-01, -1.41429156e-01, -2.41391584e-01,  1.33219749e-01,\n",
       "       -2.94684507e-02,  2.42987335e-01, -4.66544293e-02, -7.04013333e-02,\n",
       "        9.11332965e-02, -3.04981936e-02, -2.64742464e-01, -3.51791233e-02],\n",
       "      dtype=float32)"
      ]
     },
     "execution_count": 8,
     "metadata": {},
     "output_type": "execute_result"
    }
   ],
   "source": [
    "summary_embedding_dataset[0] # 첫 번째 기사의 요약 임베딩 데이터"
   ]
  },
  {
   "cell_type": "markdown",
   "id": "7149bb7f-e951-49b0-b994-6a7ce13ea8a3",
   "metadata": {},
   "source": [
    "### 저장된 뉴스들의 단락 데이터\n",
    "- index: 기사 번호\n",
    "- paragraph: 단락"
   ]
  },
  {
   "cell_type": "code",
   "execution_count": 9,
   "id": "1f3b1393-1c41-459d-9241-14e0a142ae40",
   "metadata": {},
   "outputs": [],
   "source": [
    "# 저장된 기사들의 단락 데이터\n",
    "dataset='paragraph_data.json'\n",
    "paragraph_dataset=pd.read_json(my_path+dataset)"
   ]
  },
  {
   "cell_type": "code",
   "execution_count": 10,
   "id": "3cef3e13-bd38-4f9c-ab78-96d49a1cd74b",
   "metadata": {
    "scrolled": true
   },
   "outputs": [
    {
     "data": {
      "text/html": [
       "<div>\n",
       "<style scoped>\n",
       "    .dataframe tbody tr th:only-of-type {\n",
       "        vertical-align: middle;\n",
       "    }\n",
       "\n",
       "    .dataframe tbody tr th {\n",
       "        vertical-align: top;\n",
       "    }\n",
       "\n",
       "    .dataframe thead th {\n",
       "        text-align: right;\n",
       "    }\n",
       "</style>\n",
       "<table border=\"1\" class=\"dataframe\">\n",
       "  <thead>\n",
       "    <tr style=\"text-align: right;\">\n",
       "      <th></th>\n",
       "      <th>index</th>\n",
       "      <th>paragraph</th>\n",
       "    </tr>\n",
       "  </thead>\n",
       "  <tbody>\n",
       "    <tr>\n",
       "      <th>0</th>\n",
       "      <td>0</td>\n",
       "      <td>과거에 비해 다소 살이 빠진 듯한 방시혁 하이브 의장의 모습이 소셜미디어(sns) ...</td>\n",
       "    </tr>\n",
       "    <tr>\n",
       "      <th>1</th>\n",
       "      <td>0</td>\n",
       "      <td>방 의장은 전날 자신의 인스타그램 계정에 진과 함께 찍은 사진을 공개하며 “성공적인...</td>\n",
       "    </tr>\n",
       "    <tr>\n",
       "      <th>2</th>\n",
       "      <td>0</td>\n",
       "      <td>이날 개최한 팬 이벤트는 진의 전역 후 첫 행사이자, bts의 데뷔 11주년 행사였...</td>\n",
       "    </tr>\n",
       "    <tr>\n",
       "      <th>3</th>\n",
       "      <td>0</td>\n",
       "      <td>방시혁 하이브 의장이 지난달 28일 오후 무함마드 빈 자예드 알 나흐얀 아랍에미리트...</td>\n",
       "    </tr>\n",
       "    <tr>\n",
       "      <th>4</th>\n",
       "      <td>0</td>\n",
       "      <td>줄곧 침묵을 유지하던 방 의장은 지난달 17일 법원에 제출한 탄원서를 통해 “한 사...</td>\n",
       "    </tr>\n",
       "    <tr>\n",
       "      <th>...</th>\n",
       "      <td>...</td>\n",
       "      <td>...</td>\n",
       "    </tr>\n",
       "    <tr>\n",
       "      <th>33648</th>\n",
       "      <td>6435</td>\n",
       "      <td>이 대표는 경남 창원 민주당 경남도당에서 열린 현장 선거대책위원회에서 같은 당 김경...</td>\n",
       "    </tr>\n",
       "    <tr>\n",
       "      <th>33649</th>\n",
       "      <td>6435</td>\n",
       "      <td>이 대표는 전날 자신이 내놓은 ‘국민 1인당 25만원씩(총 13조원 추산) 민생회복...</td>\n",
       "    </tr>\n",
       "    <tr>\n",
       "      <th>33650</th>\n",
       "      <td>6435</td>\n",
       "      <td>국민의힘은 세 자녀 등록금 면제 대상은 34만명이고, 들어갈 예산은 1조4500억원...</td>\n",
       "    </tr>\n",
       "    <tr>\n",
       "      <th>33651</th>\n",
       "      <td>6435</td>\n",
       "      <td>세 자녀 가구에 지원되는 전기요금, 도시가스, 지역난방비 감면을 두 자녀 가구로 확...</td>\n",
       "    </tr>\n",
       "    <tr>\n",
       "      <th>33652</th>\n",
       "      <td>6436</td>\n",
       "      <td>○…더불어민주당 경기 하남갑에 전략공천된 추미애, 코미디 프로그램에 출연, 이재명과...</td>\n",
       "    </tr>\n",
       "  </tbody>\n",
       "</table>\n",
       "<p>33653 rows × 2 columns</p>\n",
       "</div>"
      ],
      "text/plain": [
       "       index                                          paragraph\n",
       "0          0  과거에 비해 다소 살이 빠진 듯한 방시혁 하이브 의장의 모습이 소셜미디어(sns) ...\n",
       "1          0  방 의장은 전날 자신의 인스타그램 계정에 진과 함께 찍은 사진을 공개하며 “성공적인...\n",
       "2          0  이날 개최한 팬 이벤트는 진의 전역 후 첫 행사이자, bts의 데뷔 11주년 행사였...\n",
       "3          0  방시혁 하이브 의장이 지난달 28일 오후 무함마드 빈 자예드 알 나흐얀 아랍에미리트...\n",
       "4          0  줄곧 침묵을 유지하던 방 의장은 지난달 17일 법원에 제출한 탄원서를 통해 “한 사...\n",
       "...      ...                                                ...\n",
       "33648   6435  이 대표는 경남 창원 민주당 경남도당에서 열린 현장 선거대책위원회에서 같은 당 김경...\n",
       "33649   6435  이 대표는 전날 자신이 내놓은 ‘국민 1인당 25만원씩(총 13조원 추산) 민생회복...\n",
       "33650   6435  국민의힘은 세 자녀 등록금 면제 대상은 34만명이고, 들어갈 예산은 1조4500억원...\n",
       "33651   6435  세 자녀 가구에 지원되는 전기요금, 도시가스, 지역난방비 감면을 두 자녀 가구로 확...\n",
       "33652   6436  ○…더불어민주당 경기 하남갑에 전략공천된 추미애, 코미디 프로그램에 출연, 이재명과...\n",
       "\n",
       "[33653 rows x 2 columns]"
      ]
     },
     "execution_count": 10,
     "metadata": {},
     "output_type": "execute_result"
    }
   ],
   "source": [
    "paragraph_dataset"
   ]
  },
  {
   "cell_type": "code",
   "execution_count": 11,
   "id": "830d81c4-4c04-4c2f-92da-7ddf99948891",
   "metadata": {},
   "outputs": [
    {
     "name": "stdout",
     "output_type": "stream",
     "text": [
      "( 단락 총 개수 , 컬럼 수)\n"
     ]
    },
    {
     "data": {
      "text/plain": [
       "(33653, 2)"
      ]
     },
     "execution_count": 11,
     "metadata": {},
     "output_type": "execute_result"
    }
   ],
   "source": [
    "print(\"( 단락 총 개수 , 컬럼 수)\")\n",
    "paragraph_dataset.shape"
   ]
  },
  {
   "cell_type": "markdown",
   "id": "6ff748b7-d3b2-4493-8f67-d47f757b746b",
   "metadata": {},
   "source": [
    "### 저장된 뉴스들의 단락 임베딩 데이터"
   ]
  },
  {
   "cell_type": "code",
   "execution_count": 12,
   "id": "f7071fc5-8c68-40e1-b4c8-1156d7f24cbd",
   "metadata": {},
   "outputs": [],
   "source": [
    "# 저장된 기사들의 단락 임베딩 데이터\n",
    "dataset='paragraph_embedding.npy'\n",
    "paragraph_embedding_dataset=np.load(my_path+dataset)"
   ]
  },
  {
   "cell_type": "code",
   "execution_count": 13,
   "id": "87dc2330-e50f-46e2-bd25-3d537ed43761",
   "metadata": {
    "scrolled": true
   },
   "outputs": [
    {
     "name": "stdout",
     "output_type": "stream",
     "text": [
      "( 단락 총 개수 , 임베딩 차원 )\n"
     ]
    },
    {
     "data": {
      "text/plain": [
       "(33653, 128)"
      ]
     },
     "execution_count": 13,
     "metadata": {},
     "output_type": "execute_result"
    }
   ],
   "source": [
    "print(\"( 단락 총 개수 , 임베딩 차원 )\")\n",
    "paragraph_embedding_dataset.shape"
   ]
  },
  {
   "cell_type": "code",
   "execution_count": 14,
   "id": "6718ee0a-3954-48c6-959d-d54ab6f679c5",
   "metadata": {
    "scrolled": true
   },
   "outputs": [
    {
     "name": "stdout",
     "output_type": "stream",
     "text": [
      "[-3.27881664e-01  1.14686206e-01 -3.37897390e-02 -1.89114317e-01\n",
      "  2.53429800e-01  5.00494204e-02  1.96555123e-01  2.81413555e-01\n",
      "  1.71784639e-01 -1.66616380e-01  2.19282180e-01  1.76256597e-01\n",
      " -7.33617367e-03  2.34767750e-01  5.44347195e-03  4.07325588e-02\n",
      "  1.38898820e-01  1.18467353e-01  3.30788307e-02  5.21330237e-01\n",
      "  1.35957694e-03 -1.89961404e-01 -1.63521573e-01  2.78955787e-01\n",
      " -2.86507934e-01 -2.54717767e-01  4.47581232e-01 -1.88536391e-01\n",
      " -8.64003524e-02  1.46690339e-01 -2.52024174e-01  2.27498025e-01\n",
      "  9.02265385e-02 -9.52593833e-02 -3.43573064e-01 -6.72127530e-02\n",
      "  1.05423577e-01  1.75513811e-02  1.22265011e-01 -4.44901586e-01\n",
      "  1.70518607e-01 -1.24860844e-02 -2.04270840e-01 -1.10439554e-01\n",
      " -1.18234046e-02  7.24388808e-02  2.57121265e-01  8.17412436e-02\n",
      " -1.05895422e-01 -1.48167774e-01  1.48221895e-01  4.64897156e-02\n",
      " -5.93772121e-02 -3.49758297e-01 -2.06938535e-01  1.65401340e-01\n",
      " -7.27411285e-02 -3.06901336e-02 -1.07786343e-01 -9.71050113e-02\n",
      "  1.97121829e-01  3.32890861e-02  1.92985997e-01  2.20371261e-01\n",
      " -1.27229886e-02 -3.56303245e-01 -9.87922251e-02  5.62584512e-02\n",
      "  1.33638933e-01 -2.01404244e-01 -9.41236019e-02  2.17463952e-02\n",
      "  1.45707324e-01  1.39304414e-01 -2.37362340e-01 -1.61136881e-01\n",
      "  3.73980194e-01 -4.02835667e-01  3.58195573e-01 -2.82543123e-01\n",
      " -4.82358336e-02 -1.95789099e-01 -1.22501515e-01 -2.48587251e-01\n",
      "  1.39765412e-01 -1.55362114e-01 -3.55676338e-02 -3.03247720e-01\n",
      "  6.18085207e-04  1.32466838e-01 -3.06282729e-01  8.85585602e-03\n",
      " -2.38801792e-01  1.40107781e-01 -2.26175487e-01  3.09051454e-01\n",
      "  3.95781696e-01 -1.41426131e-01 -1.06918842e-01  7.22622573e-02\n",
      "  6.72940984e-02  3.11411768e-01  3.60950619e-01  1.54879302e-01\n",
      "  3.00136983e-01 -1.38371333e-01  2.35705271e-01  1.63807705e-01\n",
      " -2.19902501e-01 -2.53790200e-01 -1.38265789e-01 -7.51607940e-02\n",
      "  4.27093804e-02 -1.32023260e-01 -1.90597564e-01  5.44844642e-02\n",
      " -2.11042255e-01 -1.96340814e-01 -1.63644359e-01  2.56985128e-01\n",
      " -1.84862893e-02  1.99931979e-01 -3.81284468e-02  1.44880265e-04\n",
      "  1.93769746e-02  1.16702979e-02 -2.17091024e-01  1.32574722e-01]\n"
     ]
    }
   ],
   "source": [
    "print(paragraph_embedding_dataset[0])# 첫번째 기사의 1번 단락 임베딩 데이터"
   ]
  },
  {
   "cell_type": "markdown",
   "id": "cd3ff03a-fdaa-4fd8-ae42-6079fa2e8eb9",
   "metadata": {},
   "source": [
    "### 요약 모델 훈련을 위한 데이터셋\n",
    "- AI Hub 문서요약텍스트 데이터셋 (신문 기사 데이터셋)\n",
    "- https://www.aihub.or.kr/aihubdata/data/view.do?currMenu=115&topMenu=100&dataSetSn=97"
   ]
  },
  {
   "cell_type": "code",
   "execution_count": 15,
   "id": "ffe0e181-a750-40bd-b786-af7c984021cb",
   "metadata": {},
   "outputs": [],
   "source": [
    "# train / valid dataset\n",
    "train_dataset=pd.read_json(my_path+'train_original.json')\n",
    "valid_dataset=pd.read_json(my_path+'valid_original.json')"
   ]
  },
  {
   "cell_type": "code",
   "execution_count": 16,
   "id": "5f4e8e08-da7c-4aff-9a70-3a8c49c5a338",
   "metadata": {},
   "outputs": [
    {
     "data": {
      "text/html": [
       "<div>\n",
       "<style scoped>\n",
       "    .dataframe tbody tr th:only-of-type {\n",
       "        vertical-align: middle;\n",
       "    }\n",
       "\n",
       "    .dataframe tbody tr th {\n",
       "        vertical-align: top;\n",
       "    }\n",
       "\n",
       "    .dataframe thead th {\n",
       "        text-align: right;\n",
       "    }\n",
       "</style>\n",
       "<table border=\"1\" class=\"dataframe\">\n",
       "  <thead>\n",
       "    <tr style=\"text-align: right;\">\n",
       "      <th></th>\n",
       "      <th>name</th>\n",
       "      <th>delivery_date</th>\n",
       "      <th>documents</th>\n",
       "    </tr>\n",
       "  </thead>\n",
       "  <tbody>\n",
       "    <tr>\n",
       "      <th>0</th>\n",
       "      <td>문서요약 프로젝트</td>\n",
       "      <td>2020-12-23 12:01:15</td>\n",
       "      <td>{'id': '340626877', 'category': '정치', 'media_t...</td>\n",
       "    </tr>\n",
       "    <tr>\n",
       "      <th>1</th>\n",
       "      <td>문서요약 프로젝트</td>\n",
       "      <td>2020-12-23 12:01:15</td>\n",
       "      <td>{'id': '340626896', 'category': '종합', 'media_t...</td>\n",
       "    </tr>\n",
       "    <tr>\n",
       "      <th>2</th>\n",
       "      <td>문서요약 프로젝트</td>\n",
       "      <td>2020-12-23 12:01:15</td>\n",
       "      <td>{'id': '340626904', 'category': 'IT,과학', 'medi...</td>\n",
       "    </tr>\n",
       "    <tr>\n",
       "      <th>3</th>\n",
       "      <td>문서요약 프로젝트</td>\n",
       "      <td>2020-12-23 12:01:15</td>\n",
       "      <td>{'id': '340627450', 'category': '사회', 'media_t...</td>\n",
       "    </tr>\n",
       "    <tr>\n",
       "      <th>4</th>\n",
       "      <td>문서요약 프로젝트</td>\n",
       "      <td>2020-12-23 12:01:15</td>\n",
       "      <td>{'id': '340627465', 'category': '경제', 'media_t...</td>\n",
       "    </tr>\n",
       "    <tr>\n",
       "      <th>...</th>\n",
       "      <td>...</td>\n",
       "      <td>...</td>\n",
       "      <td>...</td>\n",
       "    </tr>\n",
       "    <tr>\n",
       "      <th>30117</th>\n",
       "      <td>문서요약 프로젝트</td>\n",
       "      <td>2020-12-23 12:01:15</td>\n",
       "      <td>{'id': '350851474', 'category': '종합', 'media_t...</td>\n",
       "    </tr>\n",
       "    <tr>\n",
       "      <th>30118</th>\n",
       "      <td>문서요약 프로젝트</td>\n",
       "      <td>2020-12-23 12:01:15</td>\n",
       "      <td>{'id': '350851925', 'category': '경제', 'media_t...</td>\n",
       "    </tr>\n",
       "    <tr>\n",
       "      <th>30119</th>\n",
       "      <td>문서요약 프로젝트</td>\n",
       "      <td>2020-12-23 12:01:15</td>\n",
       "      <td>{'id': '350854748', 'category': '종합', 'media_t...</td>\n",
       "    </tr>\n",
       "    <tr>\n",
       "      <th>30120</th>\n",
       "      <td>문서요약 프로젝트</td>\n",
       "      <td>2020-12-23 12:01:15</td>\n",
       "      <td>{'id': '350857648', 'category': '종합', 'media_t...</td>\n",
       "    </tr>\n",
       "    <tr>\n",
       "      <th>30121</th>\n",
       "      <td>문서요약 프로젝트</td>\n",
       "      <td>2020-12-23 12:01:15</td>\n",
       "      <td>{'id': '350861693', 'category': '경제', 'media_t...</td>\n",
       "    </tr>\n",
       "  </tbody>\n",
       "</table>\n",
       "<p>30122 rows × 3 columns</p>\n",
       "</div>"
      ],
      "text/plain": [
       "            name        delivery_date  \\\n",
       "0      문서요약 프로젝트  2020-12-23 12:01:15   \n",
       "1      문서요약 프로젝트  2020-12-23 12:01:15   \n",
       "2      문서요약 프로젝트  2020-12-23 12:01:15   \n",
       "3      문서요약 프로젝트  2020-12-23 12:01:15   \n",
       "4      문서요약 프로젝트  2020-12-23 12:01:15   \n",
       "...          ...                  ...   \n",
       "30117  문서요약 프로젝트  2020-12-23 12:01:15   \n",
       "30118  문서요약 프로젝트  2020-12-23 12:01:15   \n",
       "30119  문서요약 프로젝트  2020-12-23 12:01:15   \n",
       "30120  문서요약 프로젝트  2020-12-23 12:01:15   \n",
       "30121  문서요약 프로젝트  2020-12-23 12:01:15   \n",
       "\n",
       "                                               documents  \n",
       "0      {'id': '340626877', 'category': '정치', 'media_t...  \n",
       "1      {'id': '340626896', 'category': '종합', 'media_t...  \n",
       "2      {'id': '340626904', 'category': 'IT,과학', 'medi...  \n",
       "3      {'id': '340627450', 'category': '사회', 'media_t...  \n",
       "4      {'id': '340627465', 'category': '경제', 'media_t...  \n",
       "...                                                  ...  \n",
       "30117  {'id': '350851474', 'category': '종합', 'media_t...  \n",
       "30118  {'id': '350851925', 'category': '경제', 'media_t...  \n",
       "30119  {'id': '350854748', 'category': '종합', 'media_t...  \n",
       "30120  {'id': '350857648', 'category': '종합', 'media_t...  \n",
       "30121  {'id': '350861693', 'category': '경제', 'media_t...  \n",
       "\n",
       "[30122 rows x 3 columns]"
      ]
     },
     "execution_count": 16,
     "metadata": {},
     "output_type": "execute_result"
    }
   ],
   "source": [
    "valid_dataset"
   ]
  },
  {
   "cell_type": "markdown",
   "id": "691b16a7-2b61-441e-a016-4762593b028d",
   "metadata": {},
   "source": [
    "## **2. 데이터 전처리 (Data Preprocessing)**"
   ]
  },
  {
   "cell_type": "markdown",
   "id": "7a511f6d-8edd-43f9-8a00-52d83b143813",
   "metadata": {},
   "source": [
    "### 데이터 준비 (Preparing Data)\n",
    "\n",
    "앞서 확인하고 분석한 numpy array들을 훈련에 사용할 수 있는 형태로 바꾸고자 한다.\n",
    "\n",
    "- 데이터 정규화 (Normalization)\n",
    "  - 지금의 numpy 배열은 전부 0 ~ 255의 값을 가진다. 해당 값들을 전부 255로 나누어 0 ~ 1의 값을 가지도록 해준다.\n",
    "- 데이터 합치기 & 레이블 생성\n",
    "  - 지금 총 10개의 numpy array가 *dataset_numpy* list의 요소들로 존재한다. 이를 하나의 numpy array로 합쳐준다. (`concatenate`)\n",
    "  - numpy array는 입력 데이터(X)이다. 하지만 훈련을 위해서는 입력 데이터 뿐만 아니라 정답 데이터(Y), 즉 레이블 (label)이 존재해야한다. 레이블 array를 생성해준다. 레이블은 앞서 정의했던 *dataset* array의 값의 index로 한다.\n",
    "    - `dataset=['ant','apple', 'bus', 'butterfly', 'cup', 'envelope','fish', 'giraffe', 'lightbulb','pig']`\n",
    "- 훈련 (train) & 평가 (test) 데이터셋 생성\n",
    "  - 전체 데이터 중 일부는 훈련 (train)에 사용하고, 나머지 일부는 훈련된 모델의 성능을 평가 (test)하기 위해 사용하고자 한다. (`train_test_split`)\n",
    "- 모델 훈련에 사용할 수 있는 형태로 변경\n",
    "  - 입력 데이터 X는 numpy 배열의 차원을 바꿔준다. (`reshape`)\n",
    "  - 정답(레이블) 데이터 Y는 one-hot-encoding을 수행한다.\n",
    "    - One-hot-encoding: 0과 1로 데이터를 구별하는 인코딩이다. \n",
    "    - 본래 정답 데이터는 총 카테고리의 값이 10가지가 존재하므로 0에서 9의 숫자로 이루어져있다. 이를 one-hot-encoding으로 표현하면, 2의 label을 가지는 'bus'의 경우에 [0, 0, 1, 0, 0, 0, 0, 0, 0, 0]의 형태로 인코딩된다.\n",
    "    - Keras에서 one-hot-encoding 함수를 지원한다. (`to_categorical`)"
   ]
  },
  {
   "cell_type": "markdown",
   "id": "7813e8b8-42d2-4211-b025-a6cb6fb2b448",
   "metadata": {},
   "source": [
    "#### 결측 데이터 삭제"
   ]
  },
  {
   "cell_type": "code",
   "execution_count": 17,
   "id": "cb70c753-c9cc-4901-adc0-9b521e53974c",
   "metadata": {},
   "outputs": [
    {
     "name": "stdout",
     "output_type": "stream",
     "text": [
      "train_dataset 수:243983\n",
      "valid_dataset 수:30122\n"
     ]
    }
   ],
   "source": [
    "train_dataset=train_dataset.dropna()\n",
    "print(\"train_dataset 수:\"+str(len(train_dataset)))\n",
    "\n",
    "valid_dataset=valid_dataset.dropna()\n",
    "print(\"valid_dataset 수:\"+str(len(valid_dataset)))"
   ]
  },
  {
   "cell_type": "markdown",
   "id": "74946e26-6070-4e06-840f-46b11a21f54c",
   "metadata": {},
   "source": [
    "# 훈련 & 평가 데이터셋 생성\n",
    "\n",
    "훈련 데이터셋에서 0.05를 valid 데이터셋으로 사용 (https://github.com/KPFBERT/kpfbertsum/blob/main/kpfbert_summary.ipynb)"
   ]
  },
  {
   "cell_type": "code",
   "execution_count": 18,
   "id": "d49569a0-d6fd-42dd-b789-25de1ed29845",
   "metadata": {},
   "outputs": [],
   "source": [
    "train_df, val_df=train_test_split(train_dataset, test_size=0.05)\n",
    "test_df=valid_dataset\n",
    "train_df=train_df.reset_index(drop=True)\n",
    "val_df=val_df.reset_index(drop=True)"
   ]
  },
  {
   "cell_type": "code",
   "execution_count": 19,
   "id": "dbf30642-a62c-4b3b-9f4b-4442a30bc495",
   "metadata": {},
   "outputs": [
    {
     "name": "stdout",
     "output_type": "stream",
     "text": [
      "( 훈련 데이터 개수 , 검증 데이터 수, 테스트 데이터 수)\n",
      "(231783, 3) (12200, 3) (30122, 3)\n"
     ]
    }
   ],
   "source": [
    "print(\"( 훈련 데이터 개수 , 검증 데이터 수, 테스트 데이터 수)\")\n",
    "print(train_df.shape, val_df.shape, test_df.shape)"
   ]
  },
  {
   "cell_type": "markdown",
   "id": "7bfef6ee-0334-4b1f-bf94-242852e97000",
   "metadata": {},
   "source": [
    "#### 기존 Bflysoft-뉴스기사 데이터셋에 맞춰 변환\n",
    "- 기존에 Bflysoft-뉴스기사 데이터셋에 맞춰 작성된 코드이나 해당 데이터셋이 비공개되어 AI-HUB 데이터셋을 변형시켜 사용"
   ]
  },
  {
   "cell_type": "code",
   "execution_count": 20,
   "id": "7d6a6848-12e7-4ce0-8583-caa1eeb4ae30",
   "metadata": {},
   "outputs": [],
   "source": [
    "def preprocess_data(data):\n",
    "    outs = []\n",
    "    for doc in data['documents']:\n",
    "        line = []\n",
    "        line.append(doc['media_name'])\n",
    "        line.append(doc['id'])\n",
    "        para = []\n",
    "        for sent in doc['text']:\n",
    "            for s in sent:\n",
    "                para.append(s['sentence'])\n",
    "        line.append(para)\n",
    "        line.append(doc['abstractive'][0])\n",
    "        line.append(doc['extractive'])\n",
    "        a = doc['extractive']\n",
    "        if a[0] == None or a[1] == None or a[2] == None:\n",
    "            continue\n",
    "        outs.append(line)\n",
    "\n",
    "    outs_df = pd.DataFrame(outs)\n",
    "    outs_df.columns = ['media', 'id', 'article_original', 'abstractive', 'extractive']\n",
    "    return outs_df"
   ]
  },
  {
   "cell_type": "code",
   "execution_count": 21,
   "id": "f7dc11e1-523f-45f1-a8b8-577df4b8e907",
   "metadata": {},
   "outputs": [
    {
     "data": {
      "text/html": [
       "<div>\n",
       "<style scoped>\n",
       "    .dataframe tbody tr th:only-of-type {\n",
       "        vertical-align: middle;\n",
       "    }\n",
       "\n",
       "    .dataframe tbody tr th {\n",
       "        vertical-align: top;\n",
       "    }\n",
       "\n",
       "    .dataframe thead th {\n",
       "        text-align: right;\n",
       "    }\n",
       "</style>\n",
       "<table border=\"1\" class=\"dataframe\">\n",
       "  <thead>\n",
       "    <tr style=\"text-align: right;\">\n",
       "      <th></th>\n",
       "      <th>media</th>\n",
       "      <th>id</th>\n",
       "      <th>article_original</th>\n",
       "      <th>abstractive</th>\n",
       "      <th>extractive</th>\n",
       "    </tr>\n",
       "  </thead>\n",
       "  <tbody>\n",
       "    <tr>\n",
       "      <th>0</th>\n",
       "      <td>한라일보</td>\n",
       "      <td>366182258</td>\n",
       "      <td>[삶을 살아가면서 인력으로 풀기 힘든 문제에 대해서는 용한 점집이나 유명한 점집을 ...</td>\n",
       "      <td>'수정신당'은 파주시에 위치한 점집으로 상담을 진행하는 방식 또한 진솔하고 무분별하...</td>\n",
       "      <td>[2, 3, 6]</td>\n",
       "    </tr>\n",
       "  </tbody>\n",
       "</table>\n",
       "</div>"
      ],
      "text/plain": [
       "  media         id                                   article_original  \\\n",
       "0  한라일보  366182258  [삶을 살아가면서 인력으로 풀기 힘든 문제에 대해서는 용한 점집이나 유명한 점집을 ...   \n",
       "\n",
       "                                         abstractive extractive  \n",
       "0  '수정신당'은 파주시에 위치한 점집으로 상담을 진행하는 방식 또한 진솔하고 무분별하...  [2, 3, 6]  "
      ]
     },
     "execution_count": 21,
     "metadata": {},
     "output_type": "execute_result"
    }
   ],
   "source": [
    "train_df = preprocess_data(train_df)\n",
    "train_df.head(1)"
   ]
  },
  {
   "cell_type": "code",
   "execution_count": 22,
   "id": "162e65fd-fdff-4eb7-a5d8-848ee143fd71",
   "metadata": {},
   "outputs": [
    {
     "data": {
      "text/html": [
       "<div>\n",
       "<style scoped>\n",
       "    .dataframe tbody tr th:only-of-type {\n",
       "        vertical-align: middle;\n",
       "    }\n",
       "\n",
       "    .dataframe tbody tr th {\n",
       "        vertical-align: top;\n",
       "    }\n",
       "\n",
       "    .dataframe thead th {\n",
       "        text-align: right;\n",
       "    }\n",
       "</style>\n",
       "<table border=\"1\" class=\"dataframe\">\n",
       "  <thead>\n",
       "    <tr style=\"text-align: right;\">\n",
       "      <th></th>\n",
       "      <th>media</th>\n",
       "      <th>id</th>\n",
       "      <th>article_original</th>\n",
       "      <th>abstractive</th>\n",
       "      <th>extractive</th>\n",
       "    </tr>\n",
       "  </thead>\n",
       "  <tbody>\n",
       "    <tr>\n",
       "      <th>0</th>\n",
       "      <td>한국경제</td>\n",
       "      <td>340626877</td>\n",
       "      <td>[[ 박재원 기자 ] '대한민국 5G 홍보대사'를 자처한 문재인 대통령은 \"넓고, ...</td>\n",
       "      <td>8일 서울에서 열린 5G플러스 전략발표에 참석한 문재인 대통령은 5G는 대한민국 혁...</td>\n",
       "      <td>[0, 1, 3]</td>\n",
       "    </tr>\n",
       "  </tbody>\n",
       "</table>\n",
       "</div>"
      ],
      "text/plain": [
       "  media         id                                   article_original  \\\n",
       "0  한국경제  340626877  [[ 박재원 기자 ] '대한민국 5G 홍보대사'를 자처한 문재인 대통령은 \"넓고, ...   \n",
       "\n",
       "                                         abstractive extractive  \n",
       "0  8일 서울에서 열린 5G플러스 전략발표에 참석한 문재인 대통령은 5G는 대한민국 혁...  [0, 1, 3]  "
      ]
     },
     "execution_count": 22,
     "metadata": {},
     "output_type": "execute_result"
    }
   ],
   "source": [
    "test_df = preprocess_data(test_df)\n",
    "test_df.head(1)"
   ]
  },
  {
   "cell_type": "code",
   "execution_count": 23,
   "id": "a83ad4e7-7d14-4e1f-b5d6-8ab5bc401686",
   "metadata": {},
   "outputs": [
    {
     "data": {
      "text/html": [
       "<div>\n",
       "<style scoped>\n",
       "    .dataframe tbody tr th:only-of-type {\n",
       "        vertical-align: middle;\n",
       "    }\n",
       "\n",
       "    .dataframe tbody tr th {\n",
       "        vertical-align: top;\n",
       "    }\n",
       "\n",
       "    .dataframe thead th {\n",
       "        text-align: right;\n",
       "    }\n",
       "</style>\n",
       "<table border=\"1\" class=\"dataframe\">\n",
       "  <thead>\n",
       "    <tr style=\"text-align: right;\">\n",
       "      <th></th>\n",
       "      <th>media</th>\n",
       "      <th>id</th>\n",
       "      <th>article_original</th>\n",
       "      <th>abstractive</th>\n",
       "      <th>extractive</th>\n",
       "    </tr>\n",
       "  </thead>\n",
       "  <tbody>\n",
       "    <tr>\n",
       "      <th>0</th>\n",
       "      <td>동양일보</td>\n",
       "      <td>338847790</td>\n",
       "      <td>[이종억 올해 국내외 110차례 공연 계획…토요상설공연 인기 영동 난계국악단의 공연...</td>\n",
       "      <td>1991년 5월 전국 최초의 군립 국악 관현악단으로 출발한 영동군 난계국악단이 호주...</td>\n",
       "      <td>[2, 1, 11]</td>\n",
       "    </tr>\n",
       "  </tbody>\n",
       "</table>\n",
       "</div>"
      ],
      "text/plain": [
       "  media         id                                   article_original  \\\n",
       "0  동양일보  338847790  [이종억 올해 국내외 110차례 공연 계획…토요상설공연 인기 영동 난계국악단의 공연...   \n",
       "\n",
       "                                         abstractive  extractive  \n",
       "0  1991년 5월 전국 최초의 군립 국악 관현악단으로 출발한 영동군 난계국악단이 호주...  [2, 1, 11]  "
      ]
     },
     "execution_count": 23,
     "metadata": {},
     "output_type": "execute_result"
    }
   ],
   "source": [
    "val_df = preprocess_data(val_df)\n",
    "val_df.head(1)"
   ]
  },
  {
   "cell_type": "markdown",
   "id": "5f360522-b2dc-47c3-922e-f21942a94b72",
   "metadata": {},
   "source": [
    "## **3. 학습 모델 훈련 (Train Model)**\n",
    "요약 모델 훈련"
   ]
  },
  {
   "cell_type": "code",
   "execution_count": 24,
   "id": "b846670b-2e46-4ee2-968f-b05f60bd3232",
   "metadata": {},
   "outputs": [
    {
     "name": "stderr",
     "output_type": "stream",
     "text": [
      "Global seed set to 42\n"
     ]
    },
    {
     "data": {
      "text/plain": [
       "42"
      ]
     },
     "execution_count": 24,
     "metadata": {},
     "output_type": "execute_result"
    }
   ],
   "source": [
    "%matplotlib inline\n",
    "%config InlineBackend.figure_format='retina'\n",
    "\n",
    "RANDOM_SEED = 42\n",
    "\n",
    "sns.set(style='whitegrid', palette='muted', font_scale=1.2)\n",
    "HAPPY_COLORS_PALETTE = [\"#01BEFE\", \"#FFDD00\", \"#FF7D00\", \"#FF006D\", \"#ADFF02\", \"#8F00FF\"]\n",
    "sns.set_palette(sns.color_palette(HAPPY_COLORS_PALETTE))\n",
    "rcParams['figure.figsize'] = 12, 8\n",
    "\n",
    "pl.seed_everything(RANDOM_SEED)"
   ]
  },
  {
   "cell_type": "code",
   "execution_count": 25,
   "id": "27271784-7a46-4b44-af9b-d55f9f185552",
   "metadata": {},
   "outputs": [],
   "source": [
    "BERT_MODEL_NAME = 'jinmang2/kpfbert'\n",
    "tokenizer = BertTokenizer.from_pretrained(BERT_MODEL_NAME)"
   ]
  },
  {
   "cell_type": "code",
   "execution_count": 26,
   "id": "a93e4fda-936e-4360-9708-a903630aa4a6",
   "metadata": {},
   "outputs": [],
   "source": [
    "MAX_TOKEN_COUNT = 512\n",
    "N_EPOCHS = 10\n",
    "BATCH_SIZE = 4"
   ]
  },
  {
   "cell_type": "code",
   "execution_count": 27,
   "id": "8c809980-a4f2-4b9c-a93f-6d1820f560e6",
   "metadata": {},
   "outputs": [],
   "source": [
    "class SummDataset(Dataset):\n",
    "\n",
    "    def __init__(\n",
    "        self, \n",
    "        data: pd.DataFrame, \n",
    "        tokenizer: BertTokenizer, \n",
    "        max_token_len: int = 512\n",
    "    ):\n",
    "        self.tokenizer = tokenizer\n",
    "        self.data = data\n",
    "        self.max_token_len = max_token_len\n",
    "    \n",
    "    def __len__(self):\n",
    "        return len(self.data)\n",
    "\n",
    "    def __getitem__(self, index: int):\n",
    "        data_row = self.data.iloc[index]\n",
    "\n",
    "        tokenlist = []\n",
    "        for sent in data_row.article_original:\n",
    "            tokenlist.append(tokenizer(\n",
    "                text = sent,\n",
    "                add_special_tokens = True)) #, # Add '[CLS]' and '[SEP]'\n",
    "    \n",
    "        src = [] # 토크나이징 된 전체 문단\n",
    "        labels = []  # 요약문에 해당하면 1, 아니면 0으로 문장수 만큼 생성\n",
    "        segs = []  #각 토큰에 대해 홀수번째 문장이면 0, 짝수번째 문장이면 1을 매핑\n",
    "        clss = []  #[CLS]토큰의 포지션값을 지정\n",
    "\n",
    "        odd = 0\n",
    "        for tkns in tokenlist:\n",
    "            if odd > 1 : odd = 0\n",
    "            clss = clss + [len(src)]\n",
    "            src = src + tkns['input_ids']\n",
    "            segs = segs + [odd] * len(tkns['input_ids'])\n",
    "            if tokenlist.index(tkns) in data_row.extractive :\n",
    "                labels = labels + [1]\n",
    "            else:\n",
    "                labels = labels + [0]\n",
    "            odd += 1\n",
    "        \n",
    "            #truncation\n",
    "            if len(src) == MAX_TOKEN_COUNT:\n",
    "                break\n",
    "            elif len(src) > MAX_TOKEN_COUNT:\n",
    "                src = src[:self.max_token_len - 1] + [src[-1]]\n",
    "                segs = segs[:self.max_token_len]\n",
    "                break\n",
    "    \n",
    "        #padding\n",
    "        if len(src) < MAX_TOKEN_COUNT:\n",
    "            src = src + [0]*(self.max_token_len - len(src))\n",
    "            segs = segs + [0]*(self.max_token_len - len(segs))\n",
    "            \n",
    "        if len(clss) < MAX_TOKEN_COUNT:\n",
    "            clss = clss + [-1]*(self.max_token_len - len(clss))\n",
    "        if len(labels) < MAX_TOKEN_COUNT:\n",
    "            labels = labels + [0]*(self.max_token_len - len(labels))\n",
    "\n",
    "        return dict(\n",
    "            src = torch.tensor(src),\n",
    "            segs = torch.tensor(segs),\n",
    "            clss = torch.tensor(clss),\n",
    "            labels= torch.FloatTensor(labels)\n",
    "        )\n",
    "class SummDataModule(pl.LightningDataModule):\n",
    "\n",
    "    def __init__(self, train_df, test_df, val_df, tokenizer, batch_size=1, max_token_len=512):\n",
    "        super().__init__()\n",
    "        self.batch_size = batch_size\n",
    "        self.train_df = train_df\n",
    "        self.test_df = test_df\n",
    "        self.val_df = val_df\n",
    "        self.tokenizer = tokenizer\n",
    "        self.max_token_len = max_token_len\n",
    "\n",
    "    def setup(self, stage=None):\n",
    "        self.train_dataset = SummDataset(\n",
    "            self.train_df,\n",
    "            self.tokenizer,\n",
    "            self.max_token_len\n",
    "        )\n",
    "\n",
    "        self.test_dataset = SummDataset(\n",
    "            self.test_df,\n",
    "            self.tokenizer,\n",
    "            self.max_token_len\n",
    "        )\n",
    "    \n",
    "        self.val_dataset = SummDataset(\n",
    "            self.val_df,\n",
    "            self.tokenizer,\n",
    "            self.max_token_len\n",
    "        )\n",
    "\n",
    "    def train_dataloader(self):\n",
    "        return DataLoader(\n",
    "            self.train_dataset,\n",
    "            batch_size=self.batch_size,\n",
    "            shuffle=True,\n",
    "            num_workers=0 # windows는 0으로 고정해야 에러 안난다. num_workers=2\n",
    "        )\n",
    "\n",
    "    def val_dataloader(self):\n",
    "        return DataLoader(\n",
    "            self.test_dataset,\n",
    "            batch_size=self.batch_size,\n",
    "            num_workers=0 # windows는 0으로 고정해야 에러 안난다. num_workers=2\n",
    "        )\n",
    "\n",
    "    def test_dataloader(self):\n",
    "        return DataLoader(\n",
    "            self.val_dataset,\n",
    "            batch_size=self.batch_size,\n",
    "            num_workers=0 # windows는 0으로 고정해야 에러 안난다. num_workers=2\n",
    "        )\n",
    "data_module = SummDataModule(\n",
    "  train_df,\n",
    "  test_df,  \n",
    "  val_df,\n",
    "  tokenizer,\n",
    "  batch_size=BATCH_SIZE,\n",
    "  max_token_len=MAX_TOKEN_COUNT\n",
    ")"
   ]
  },
  {
   "cell_type": "markdown",
   "id": "7ba3ed44-6b08-4a29-8bf3-e1fef57cd075",
   "metadata": {},
   "source": [
    "#### MODEL\n",
    "kpfBERT를 pretrained_bert로 불러와서 후처리 레이어를 추가하여 문장추출 모델을 만든다."
   ]
  },
  {
   "cell_type": "code",
   "execution_count": 28,
   "id": "3e443a18-650b-4965-a443-224df71c1477",
   "metadata": {},
   "outputs": [],
   "source": [
    "class PositionalEncoding(nn.Module):\n",
    "\n",
    "    def __init__(self, dropout, dim, max_len=5000):\n",
    "        pe = torch.zeros(max_len, dim)\n",
    "        position = torch.arange(0, max_len).unsqueeze(1)\n",
    "        div_term = torch.exp((torch.arange(0, dim, 2, dtype=torch.float) *\n",
    "                              -(math.log(10000.0) / dim)))\n",
    "        pe[:, 0::2] = torch.sin(position.float() * div_term)\n",
    "        pe[:, 1::2] = torch.cos(position.float() * div_term)\n",
    "        pe = pe.unsqueeze(0)\n",
    "        super(PositionalEncoding, self).__init__()\n",
    "        self.register_buffer('pe', pe)\n",
    "        self.dropout = nn.Dropout(p=dropout)\n",
    "        self.dim = dim\n",
    "\n",
    "    def forward(self, emb, step=None):\n",
    "        emb = emb * math.sqrt(self.dim)\n",
    "        if (step):\n",
    "            emb = emb + self.pe[:, step][:, None, :]\n",
    "\n",
    "        else:\n",
    "            emb = emb + self.pe[:, :emb.size(1)]\n",
    "        emb = self.dropout(emb)\n",
    "        return emb\n",
    "\n",
    "    def get_emb(self, emb):\n",
    "        return self.pe[:, :emb.size(1)]\n",
    "class TransformerEncoderLayer(nn.Module):\n",
    "    def __init__(self, d_model, heads, d_ff, dropout):\n",
    "        super(TransformerEncoderLayer, self).__init__()\n",
    "\n",
    "        self.self_attn = MultiHeadedAttention(\n",
    "            heads, d_model, dropout=dropout)\n",
    "        self.feed_forward = PositionwiseFeedForward(d_model, d_ff, dropout)\n",
    "        self.layer_norm = nn.LayerNorm(d_model, eps=1e-6)\n",
    "        self.dropout = nn.Dropout(dropout)\n",
    "\n",
    "    def forward(self, iter, query, inputs, mask):\n",
    "        if (iter != 0):\n",
    "            input_norm = self.layer_norm(inputs)\n",
    "        else:\n",
    "            input_norm = inputs\n",
    "\n",
    "        mask = mask.unsqueeze(1)\n",
    "        context = self.self_attn(input_norm, input_norm, input_norm,\n",
    "                                 mask=mask)\n",
    "        out = self.dropout(context) + inputs\n",
    "        return self.feed_forward(out)\n",
    "class ExtTransformerEncoder(nn.Module):\n",
    "    def __init__(self, hidden_size=768, d_ff=2048, heads=8, dropout=0.2, num_inter_layers=2):\n",
    "        super(ExtTransformerEncoder, self).__init__()\n",
    "        self.hidden_size = hidden_size\n",
    "        self.num_inter_layers = num_inter_layers\n",
    "        self.pos_emb = PositionalEncoding(dropout, hidden_size)\n",
    "        self.transformer_inter = nn.ModuleList(\n",
    "            [TransformerEncoderLayer(hidden_size, heads, d_ff, dropout)\n",
    "            for _ in range(num_inter_layers)])\n",
    "        self.dropout = nn.Dropout(dropout)\n",
    "        self.layer_norm = nn.LayerNorm(hidden_size, eps=1e-6)\n",
    "        self.wo = nn.Linear(hidden_size, 1, bias=True)\n",
    "        self.sigmoid = nn.Sigmoid()\n",
    "\n",
    "    def forward(self, top_vecs, mask):\n",
    "        \"\"\" See :obj:`EncoderBase.forward()`\"\"\"\n",
    "\n",
    "        batch_size, n_sents = top_vecs.size(0), top_vecs.size(1)\n",
    "        pos_emb = self.pos_emb.pe[:, :n_sents]\n",
    "        x = top_vecs * mask[:, :, None].float()\n",
    "        x = x + pos_emb\n",
    "\n",
    "        for i in range(self.num_inter_layers):\n",
    "            x = self.transformer_inter[i](i, x, x, ~mask) \n",
    "\n",
    "        x = self.layer_norm(x)\n",
    "        sent_scores = self.sigmoid(self.wo(x))\n",
    "        sent_scores = sent_scores.squeeze(-1) * mask.float()\n",
    "\n",
    "        return sent_scores\n",
    "class PositionwiseFeedForward(nn.Module):\n",
    "    \"\"\" A two-layer Feed-Forward-Network with residual layer norm.\n",
    "\n",
    "    Args:\n",
    "        d_model (int): the size of input for the first-layer of the FFN.\n",
    "        d_ff (int): the hidden layer size of the second-layer\n",
    "            of the FNN.\n",
    "        dropout (float): dropout probability in :math:`[0, 1)`.\n",
    "    \"\"\"\n",
    "\n",
    "    def __init__(self, d_model, d_ff, dropout=0.1):\n",
    "        super(PositionwiseFeedForward, self).__init__()\n",
    "        self.w_1 = nn.Linear(d_model, d_ff)\n",
    "        self.w_2 = nn.Linear(d_ff, d_model)\n",
    "        self.layer_norm = nn.LayerNorm(d_model, eps=1e-6)\n",
    "        self.dropout_1 = nn.Dropout(dropout)\n",
    "        self.dropout_2 = nn.Dropout(dropout)\n",
    "        \n",
    "    def gelu(self, x):\n",
    "        return 0.5 * x * (1 + torch.tanh(math.sqrt(2 / math.pi) * (x + 0.044715 * torch.pow(x, 3))))\n",
    "\n",
    "\n",
    "    def forward(self, x):\n",
    "        inter = self.dropout_1(self.gelu(self.w_1(self.layer_norm(x))))\n",
    "        output = self.dropout_2(self.w_2(inter))\n",
    "        return output + x\n",
    "class MultiHeadedAttention(nn.Module):\n",
    "    \"\"\"\n",
    "    Multi-Head Attention module from\n",
    "    \"Attention is All You Need\"\n",
    "    :cite:`DBLP:journals/corr/VaswaniSPUJGKP17`.\n",
    "\n",
    "    Similar to standard `dot` attention but uses\n",
    "    multiple attention distributions simulataneously\n",
    "    to select relevant items.\n",
    "\n",
    "    .. mermaid::\n",
    "\n",
    "       graph BT\n",
    "          A[key]\n",
    "          B[value]\n",
    "          C[query]\n",
    "          O[output]\n",
    "          subgraph Attn\n",
    "            D[Attn 1]\n",
    "            E[Attn 2]\n",
    "            F[Attn N]\n",
    "          end\n",
    "          A --> D\n",
    "          C --> D\n",
    "          A --> E\n",
    "          C --> E\n",
    "          A --> F\n",
    "          C --> F\n",
    "          D --> O\n",
    "          E --> O\n",
    "          F --> O\n",
    "          B --> O\n",
    "\n",
    "    Also includes several additional tricks.\n",
    "\n",
    "    Args:\n",
    "       head_count (int): number of parallel heads\n",
    "       model_dim (int): the dimension of keys/values/queries,\n",
    "           must be divisible by head_count\n",
    "       dropout (float): dropout parameter\n",
    "    \"\"\"\n",
    "\n",
    "    def __init__(self, head_count, model_dim, dropout=0.1, use_final_linear=True):\n",
    "        assert model_dim % head_count == 0\n",
    "        self.dim_per_head = model_dim // head_count\n",
    "        self.model_dim = model_dim\n",
    "\n",
    "        super(MultiHeadedAttention, self).__init__()\n",
    "        self.head_count = head_count\n",
    "\n",
    "        self.linear_keys = nn.Linear(model_dim,\n",
    "                                     head_count * self.dim_per_head)\n",
    "        self.linear_values = nn.Linear(model_dim,\n",
    "                                       head_count * self.dim_per_head)\n",
    "        self.linear_query = nn.Linear(model_dim,\n",
    "                                      head_count * self.dim_per_head)\n",
    "        self.softmax = nn.Softmax(dim=-1)\n",
    "        self.dropout = nn.Dropout(dropout)\n",
    "        self.use_final_linear = use_final_linear\n",
    "        if (self.use_final_linear):\n",
    "            self.final_linear = nn.Linear(model_dim, model_dim)\n",
    "\n",
    "    def forward(self, key, value, query, mask=None,\n",
    "                layer_cache=None, type=None, predefined_graph_1=None):\n",
    "        \"\"\"\n",
    "        Compute the context vector and the attention vectors.\n",
    "\n",
    "        Args:\n",
    "           key (`FloatTensor`): set of `key_len`\n",
    "                key vectors `[batch, key_len, dim]`\n",
    "           value (`FloatTensor`): set of `key_len`\n",
    "                value vectors `[batch, key_len, dim]`\n",
    "           query (`FloatTensor`): set of `query_len`\n",
    "                 query vectors  `[batch, query_len, dim]`\n",
    "           mask: binary mask indicating which keys have\n",
    "                 non-zero attention `[batch, query_len, key_len]`\n",
    "        Returns:\n",
    "           (`FloatTensor`, `FloatTensor`) :\n",
    "\n",
    "           * output context vectors `[batch, query_len, dim]`\n",
    "           * one of the attention vectors `[batch, query_len, key_len]`\n",
    "        \"\"\"\n",
    "\n",
    "        batch_size = key.size(0)\n",
    "        dim_per_head = self.dim_per_head\n",
    "        head_count = self.head_count\n",
    "        key_len = key.size(1)\n",
    "        query_len = query.size(1)\n",
    "\n",
    "        def shape(x):\n",
    "            \"\"\"  projection \"\"\"\n",
    "            return x.view(batch_size, -1, head_count, dim_per_head) \\\n",
    "                .transpose(1, 2)\n",
    "\n",
    "        def unshape(x):\n",
    "            \"\"\"  compute context \"\"\"\n",
    "            return x.transpose(1, 2).contiguous() \\\n",
    "                .view(batch_size, -1, head_count * dim_per_head)\n",
    "\n",
    "        # 1) Project key, value, and query.\n",
    "        if layer_cache is not None:\n",
    "            if type == \"self\":\n",
    "                query, key, value = self.linear_query(query), \\\n",
    "                                    self.linear_keys(query), \\\n",
    "                                    self.linear_values(query)\n",
    "\n",
    "                key = shape(key)\n",
    "                value = shape(value)\n",
    "\n",
    "                if layer_cache is not None:\n",
    "                    device = key.device\n",
    "                    if layer_cache[\"self_keys\"] is not None:\n",
    "                        key = torch.cat(\n",
    "                            (layer_cache[\"self_keys\"].to(device), key),\n",
    "                            dim=2)\n",
    "                    if layer_cache[\"self_values\"] is not None:\n",
    "                        value = torch.cat(\n",
    "                            (layer_cache[\"self_values\"].to(device), value),\n",
    "                            dim=2)\n",
    "                    layer_cache[\"self_keys\"] = key\n",
    "                    layer_cache[\"self_values\"] = value\n",
    "            elif type == \"context\":\n",
    "                query = self.linear_query(query)\n",
    "                if layer_cache is not None:\n",
    "                    if layer_cache[\"memory_keys\"] is None:\n",
    "                        key, value = self.linear_keys(key), \\\n",
    "                                     self.linear_values(value)\n",
    "                        key = shape(key)\n",
    "                        value = shape(value)\n",
    "                    else:\n",
    "                        key, value = layer_cache[\"memory_keys\"], \\\n",
    "                                     layer_cache[\"memory_values\"]\n",
    "                    layer_cache[\"memory_keys\"] = key\n",
    "                    layer_cache[\"memory_values\"] = value\n",
    "                else:\n",
    "                    key, value = self.linear_keys(key), \\\n",
    "                                 self.linear_values(value)\n",
    "                    key = shape(key)\n",
    "                    value = shape(value)\n",
    "        else:\n",
    "            key = self.linear_keys(key)\n",
    "            value = self.linear_values(value)\n",
    "            query = self.linear_query(query)\n",
    "            key = shape(key)\n",
    "            value = shape(value)\n",
    "\n",
    "        query = shape(query)\n",
    "\n",
    "        key_len = key.size(2)\n",
    "        query_len = query.size(2)\n",
    "\n",
    "        # 2) Calculate and scale scores.\n",
    "        query = query / math.sqrt(dim_per_head)\n",
    "        scores = torch.matmul(query, key.transpose(2, 3))\n",
    "\n",
    "        if mask is not None:\n",
    "            mask = mask.unsqueeze(1).expand_as(scores)\n",
    "            scores = scores.masked_fill(mask, -1e18) # how can i fix it to use fp16...\n",
    "\n",
    "        # 3) Apply attention dropout and compute context vectors.\n",
    "\n",
    "        attn = self.softmax(scores)\n",
    "\n",
    "        if (not predefined_graph_1 is None):\n",
    "            attn_masked = attn[:, -1] * predefined_graph_1\n",
    "            attn_masked = attn_masked / (torch.sum(attn_masked, 2).unsqueeze(2) + 1e-9)\n",
    "\n",
    "            attn = torch.cat([attn[:, :-1], attn_masked.unsqueeze(1)], 1)\n",
    "\n",
    "        drop_attn = self.dropout(attn)\n",
    "        if (self.use_final_linear):\n",
    "            context = unshape(torch.matmul(drop_attn, value))\n",
    "            output = self.final_linear(context)\n",
    "            return output\n",
    "        else:\n",
    "            context = torch.matmul(drop_attn, value)\n",
    "            return context\n",
    "\n",
    "class Summarizer(pl.LightningModule):\n",
    "\n",
    "    def __init__(self, n_training_steps=None, n_warmup_steps=None):\n",
    "        super().__init__()\n",
    "        self.max_pos = 512\n",
    "        self.bert = BertModel.from_pretrained(BERT_MODEL_NAME) #, return_dict=True)\n",
    "        self.ext_layer = ExtTransformerEncoder()\n",
    "        self.n_training_steps = n_training_steps\n",
    "        self.n_warmup_steps = n_warmup_steps\n",
    "        self.loss = nn.BCELoss(reduction='none')\n",
    "    \n",
    "        for p in self.ext_layer.parameters():\n",
    "            if p.dim() > 1:\n",
    "                xavier_uniform_(p)\n",
    "\n",
    "    def forward(self, src, segs, clss, labels=None): #, input_ids, attention_mask, labels=None):\n",
    "        \n",
    "        mask_src = ~(src == 0) #1 - (src == 0)\n",
    "        mask_cls = ~(clss == -1) #1 - (clss == -1)\n",
    "\n",
    "        top_vec = self.bert(src, token_type_ids=segs, attention_mask=mask_src)\n",
    "        top_vec = top_vec.last_hidden_state\n",
    "        \n",
    "        sents_vec = top_vec[torch.arange(top_vec.size(0)).unsqueeze(1), clss]\n",
    "        sents_vec = sents_vec * mask_cls[:, :, None].float()\n",
    "\n",
    "        sent_scores = self.ext_layer(sents_vec, mask_cls).squeeze(-1)\n",
    "        \n",
    "        loss = 0\n",
    "        if labels is not None:\n",
    "            loss = self.loss(sent_scores, labels)\n",
    "            \n",
    "            loss = (loss * mask_cls.float()).sum() / len(labels)\n",
    "        \n",
    "        return loss, sent_scores\n",
    "    \n",
    "    def step(self, batch):\n",
    "\n",
    "        src = batch['src']\n",
    "        if len(batch['labels']) > 0 :\n",
    "            labels = batch['labels']\n",
    "        else:\n",
    "            labels = None\n",
    "        segs = batch['segs']\n",
    "        clss = batch['clss']\n",
    "        \n",
    "        loss, sent_scores = self(src, segs, clss, labels)    \n",
    "        \n",
    "        return loss, sent_scores, labels\n",
    "\n",
    "    def training_step(self, batch, batch_idx):\n",
    "\n",
    "        loss, sent_scores, labels = self.step(batch)\n",
    "        self.log(\"train_loss\", loss, prog_bar=True, logger=True)\n",
    "        \n",
    "        return {\"loss\": loss, \"predictions\": sent_scores, \"labels\": labels}\n",
    "\n",
    "    def validation_step(self, batch, batch_idx):\n",
    "        \n",
    "        loss, sent_scores, labels = self.step(batch)\n",
    "        self.log(\"val_loss\", loss, prog_bar=True, logger=True)\n",
    "        \n",
    "        return {\"loss\": loss, \"predictions\": sent_scores, \"labels\": labels}\n",
    "\n",
    "    def test_step(self, batch, batch_idx):\n",
    "        \n",
    "        loss, sent_scores, labels = self.step(batch)\n",
    "        self.log(\"test_loss\", loss, prog_bar=True, logger=True)\n",
    "        \n",
    "        return {\"loss\": loss, \"predictions\": sent_scores, \"labels\": labels}\n",
    "\n",
    "    def acc_loss(self, outputs):\n",
    "        total_loss = 0\n",
    "        hit_cnt = 0\n",
    "        for outp in outputs:\n",
    "            labels = outp['labels'].cpu()\n",
    "            predictions, idxs = outp['predictions'].cpu().sort()\n",
    "            loss = outp['loss'].cpu()\n",
    "            for label, idx in zip(labels, idxs):\n",
    "                for i in range(1,3):\n",
    "                    if label[idx[-i-1]] == 1 : \n",
    "                        hit_cnt += 1\n",
    "\n",
    "            total_loss += loss\n",
    "            \n",
    "        avg_loss = total_loss / len(outputs)\n",
    "        acc = hit_cnt / (3*len(outputs)*len(labels))\n",
    "        \n",
    "        return acc, avg_loss\n",
    "        \n",
    "    def training_epoch_end(self, outputs):\n",
    "        \n",
    "        acc, avg_loss = self.acc_loss(outputs)\n",
    "        \n",
    "        print('acc:', acc, 'avg_loss:', avg_loss)\n",
    "        \n",
    "        self.log('avg_train_loss', avg_loss, prog_bar=True, logger=True)\n",
    "\n",
    "    def validation_epoch_end(self, outputs):\n",
    "        \n",
    "        acc, avg_loss = self.acc_loss(outputs)\n",
    "        \n",
    "        print('val_acc:', acc, 'avg_val_loss:', avg_loss)\n",
    "        \n",
    "        self.log('avg_val_loss', avg_loss, prog_bar=True, logger=True)\n",
    "\n",
    "    def test_epoch_end(self, outputs):\n",
    "        \n",
    "        acc, avg_loss = self.acc_loss(outputs)\n",
    "        \n",
    "        print('test_acc:', acc, 'avg_test_loss:', avg_loss)\n",
    "        \n",
    "        self.log('avg_test_loss', avg_loss, prog_bar=True, logger=True)\n",
    "\n",
    "        return\n",
    "        \n",
    "    def configure_optimizers(self):\n",
    "        \n",
    "        optimizer = AdamW(self.parameters(), lr=2e-5)\n",
    "\n",
    "        steps_per_epoch=len(train_df) // BATCH_SIZE\n",
    "        total_training_steps = steps_per_epoch * N_EPOCHS\n",
    "        \n",
    "        scheduler = get_linear_schedule_with_warmup(\n",
    "            optimizer,\n",
    "            num_warmup_steps=steps_per_epoch,\n",
    "            num_training_steps=total_training_steps\n",
    "        )\n",
    "\n",
    "        return dict(\n",
    "            optimizer=optimizer,\n",
    "            lr_scheduler=dict(\n",
    "                scheduler=scheduler,\n",
    "                interval='step'\n",
    "            )\n",
    "        )"
   ]
  },
  {
   "cell_type": "markdown",
   "id": "03ce3f50-f879-495b-a856-11b311b01c88",
   "metadata": {},
   "source": [
    "### 모델 컴파일 및 학습 (Compile and Train Model)\n",
    "\n",
    "- 모델 컴파일 (Compile Model)\n",
    "  - Keras의 compile 함수를 통해 모델의 optimizer, loss, 그리고 metrics를 선택할 수 있다.\n",
    "  - Loss: categoriacal_crossentropy\n",
    "    - 우리는 레이블로 one-hot-encoding을 사용했으므로 loss로 'categorical_crossentropy'를 사용한다.\n",
    "- 모델 학습 (Train Model)\n",
    "  - 앞서 구축한 모델을 준비해준 입력 데이터와 레이블 데이터로 학습시킨다."
   ]
  },
  {
   "cell_type": "code",
   "execution_count": 29,
   "id": "45192d76-e02b-410a-b1c4-bff6617f924f",
   "metadata": {},
   "outputs": [
    {
     "name": "stderr",
     "output_type": "stream",
     "text": [
      "Some weights of BertModel were not initialized from the model checkpoint at jinmang2/kpfbert and are newly initialized: ['pooler.dense.weight', 'pooler.dense.bias']\n",
      "You should probably TRAIN this model on a down-stream task to be able to use it for predictions and inference.\n"
     ]
    }
   ],
   "source": [
    "model = Summarizer()"
   ]
  },
  {
   "cell_type": "code",
   "execution_count": 31,
   "id": "c7bfa604-785a-4739-a303-51c086beb766",
   "metadata": {},
   "outputs": [
    {
     "name": "stderr",
     "output_type": "stream",
     "text": [
      "지정된 파일을 찾을 수 없습니다.\n"
     ]
    }
   ],
   "source": [
    "#windows\n",
    "!rmdir /s /q lightning_logs\n",
    "!rmdir /s /q  checkpoints"
   ]
  },
  {
   "cell_type": "code",
   "execution_count": 32,
   "id": "92b7108b-2e53-4e07-a84e-2eaaaff3e4dc",
   "metadata": {
    "scrolled": true
   },
   "outputs": [
    {
     "data": {
      "text/plain": [
       "Reusing TensorBoard on port 6006 (pid 16100), started 2:50:35 ago. (Use '!kill 16100' to kill it.)"
      ]
     },
     "metadata": {},
     "output_type": "display_data"
    },
    {
     "data": {
      "text/html": [
       "\n",
       "      <iframe id=\"tensorboard-frame-1c80317fa3b1799d\" width=\"100%\" height=\"800\" frameborder=\"0\">\n",
       "      </iframe>\n",
       "      <script>\n",
       "        (function() {\n",
       "          const frame = document.getElementById(\"tensorboard-frame-1c80317fa3b1799d\");\n",
       "          const url = new URL(\"/\", window.location);\n",
       "          const port = 6006;\n",
       "          if (port) {\n",
       "            url.port = port;\n",
       "          }\n",
       "          frame.src = url;\n",
       "        })();\n",
       "      </script>\n",
       "    "
      ],
      "text/plain": [
       "<IPython.core.display.HTML object>"
      ]
     },
     "metadata": {},
     "output_type": "display_data"
    }
   ],
   "source": [
    "\n",
    "%load_ext tensorboard\n",
    "%tensorboard --logdir ./lightning_logs"
   ]
  },
  {
   "cell_type": "code",
   "execution_count": 36,
   "id": "2b23d146-53a8-44a7-b37d-b60c93e00f0c",
   "metadata": {},
   "outputs": [
    {
     "name": "stderr",
     "output_type": "stream",
     "text": [
      "C:\\Users\\hyj_0\\AppData\\Roaming\\Python\\Python39\\site-packages\\pytorch_lightning\\utilities\\distributed.py:68: UserWarning: Checkpoint directory checkpoints exists and is not empty.\n",
      "  warnings.warn(*args, **kwargs)\n"
     ]
    }
   ],
   "source": [
    "\n",
    "checkpoint_callback = ModelCheckpoint(\n",
    "    dirpath=\"checkpoints\",\n",
    "    filename=\"best-checkpoint\",\n",
    "    save_top_k=1,\n",
    "    verbose=True,\n",
    "    monitor=\"avg_val_loss\",\n",
    "    mode=\"min\"\n",
    ")"
   ]
  },
  {
   "cell_type": "code",
   "execution_count": 37,
   "id": "27918148-3dc3-4470-ab47-b15a165c250b",
   "metadata": {},
   "outputs": [],
   "source": [
    "logger = TensorBoardLogger(\"lightning_logs\", name=\"kpfBERT_Summary\")\n"
   ]
  },
  {
   "cell_type": "code",
   "execution_count": 38,
   "id": "fbc17947-5d99-481d-9744-5a118d069b37",
   "metadata": {},
   "outputs": [],
   "source": [
    "early_stopping_callback = EarlyStopping(monitor='avg_val_loss', patience=3)\n"
   ]
  },
  {
   "cell_type": "code",
   "execution_count": 39,
   "id": "03c03712-f00d-4fe8-8e4b-44d3aa6ce6be",
   "metadata": {},
   "outputs": [
    {
     "name": "stderr",
     "output_type": "stream",
     "text": [
      "GPU available: False, used: False\n",
      "TPU available: False, using: 0 TPU cores\n"
     ]
    }
   ],
   "source": [
    "trainer = pl.Trainer(\n",
    "    logger=logger,\n",
    "    checkpoint_callback=checkpoint_callback,\n",
    "    callbacks=[early_stopping_callback],\n",
    "    max_epochs=N_EPOCHS,\n",
    "    gpus=0,\n",
    "    #progress_bar_refresh_rate=30\n",
    "#     precision=16, #소스 수정 또는 패키지 재설치 필요... 런타임 에러.\n",
    ")"
   ]
  },
  {
   "cell_type": "code",
   "execution_count": 38,
   "id": "fb39a907-c8a9-4dde-9916-78c007a09712",
   "metadata": {},
   "outputs": [
    {
     "name": "stderr",
     "output_type": "stream",
     "text": [
      "\n",
      "  | Name      | Type                  | Params\n",
      "----------------------------------------------------\n",
      "0 | bert      | BertModel             | 114 M \n",
      "1 | ext_layer | ExtTransformerEncoder | 11.0 M\n",
      "2 | loss      | BCELoss               | 0     \n",
      "----------------------------------------------------\n",
      "125 M     Trainable params\n",
      "0         Non-trainable params\n",
      "125 M     Total params\n",
      "500.230   Total estimated model params size (MB)\n"
     ]
    },
    {
     "data": {
      "application/vnd.jupyter.widget-view+json": {
       "model_id": "",
       "version_major": 2,
       "version_minor": 0
      },
      "text/plain": [
       "Validation sanity check: 0it [00:00, ?it/s]"
      ]
     },
     "metadata": {},
     "output_type": "display_data"
    },
    {
     "name": "stdout",
     "output_type": "stream",
     "text": [
      "val_acc: 0.20833333333333334 avg_val_loss: tensor(13.4332)\n"
     ]
    },
    {
     "data": {
      "application/vnd.jupyter.widget-view+json": {
       "model_id": "24af1888b9764afc980eeb1cf456eaec",
       "version_major": 2,
       "version_minor": 0
      },
      "text/plain": [
       "Training: 0it [00:00, ?it/s]"
      ]
     },
     "metadata": {},
     "output_type": "display_data"
    },
    {
     "name": "stderr",
     "output_type": "stream",
     "text": [
      "C:\\Users\\hyj_0\\AppData\\Roaming\\Python\\Python39\\site-packages\\pytorch_lightning\\utilities\\distributed.py:68: UserWarning: Detected KeyboardInterrupt, attempting graceful shutdown...\n",
      "  warnings.warn(*args, **kwargs)\n",
      "Epoch 0, global step 75: avg_val_loss reached 13.43315 (best 13.43315), saving model to \"checkpoints\\best-checkpoint.ckpt\" as top 1\n"
     ]
    },
    {
     "data": {
      "text/plain": [
       "1"
      ]
     },
     "execution_count": 38,
     "metadata": {},
     "output_type": "execute_result"
    }
   ],
   "source": [
    "trainer.fit(model, data_module)"
   ]
  },
  {
   "cell_type": "markdown",
   "id": "46891ece-23e9-422a-8b44-c44003404d9b",
   "metadata": {},
   "source": [
    "### 모델 평가 (Evaluate Model)"
   ]
  },
  {
   "cell_type": "code",
   "execution_count": null,
   "id": "de7f1aef-e304-463c-9b03-4a4bd4aff754",
   "metadata": {},
   "outputs": [],
   "source": [
    "trainer.test()"
   ]
  },
  {
   "cell_type": "markdown",
   "id": "f29ba85f-4824-41f4-af85-03c8493513a7",
   "metadata": {},
   "source": [
    "## **4. 추론 (Inference)**\n",
    "\n",
    "1. 훈련한 요약 모델을 바탕으로 테스트 뉴스 데이터의 요약본 추출 및 임베딩\n",
    "3. 피어슨 상관관계를 이용하여 기존 뉴스 요약 임베딩 데이터와 비교 (threshold=0.55)\n",
    "4. 높은 유사도를 가진 뉴스 데이터(최대 100개)를 추출\n",
    "5. 테스트 뉴스의 단락 데이터 생성 및 임베딩\n",
    "6. 저장된 단락 임베딩 데이터와 테스트 뉴스의 단락 데이터를 이용하여 BERTopic으로 클러스터링 진행\n",
    "7. 클러스터링 결과 바탕으로 다른 뉴스 3개 출력"
   ]
  },
  {
   "cell_type": "markdown",
   "id": "f74d2d22-653b-4bca-8172-3d12961413c3",
   "metadata": {},
   "source": [
    "##### 테스트 데이터셋 불러오기"
   ]
  },
  {
   "cell_type": "code",
   "execution_count": 40,
   "id": "72b9ada3-f20c-460c-ac4c-f9844ae0c484",
   "metadata": {},
   "outputs": [],
   "source": [
    "# dataset.zip 파일을 dataset 폴더에 압축을 풀어준다.\n",
    "zip_source_path = './test_dataset.zip'\n",
    "zip_target_path = './meta_data'\n",
    "\n",
    "extract_zip_file = zipfile.ZipFile(zip_source_path)\n",
    "extract_zip_file.extractall(zip_target_path)\n",
    " \n",
    "extract_zip_file.close()"
   ]
  },
  {
   "cell_type": "code",
   "execution_count": 41,
   "id": "a9b1e920-eddc-45bc-b888-e058ea92b449",
   "metadata": {},
   "outputs": [],
   "source": [
    "my_path='./meta_data/test_dataset/'\n",
    "\n",
    "test_name='test.json'\n",
    "with open(my_path+test_name, encoding='utf8') as f:\n",
    "    test_dataset = json.load(f)"
   ]
  },
  {
   "cell_type": "code",
   "execution_count": 42,
   "id": "8aa736cf-1947-4608-be02-7f540b526d2e",
   "metadata": {},
   "outputs": [],
   "source": [
    "target_article=test_dataset['article']\n",
    "target_link=test_dataset['link']"
   ]
  },
  {
   "cell_type": "markdown",
   "id": "4573bf4d-647e-46e2-a025-211831a4cf58",
   "metadata": {},
   "source": [
    "#### 테스트 뉴스의 본문 "
   ]
  },
  {
   "cell_type": "code",
   "execution_count": 43,
   "id": "7c315201-3b4f-49bf-939a-663e21f26a1a",
   "metadata": {
    "scrolled": true
   },
   "outputs": [
    {
     "data": {
      "text/plain": [
       "'당정에 “구체안 신속 논의” 제안연금개혁안 이은 ‘실용 정치’ 포석野, 30일 관련법안 당론 채택 예고더불어민주당 이재명 대표가 민생회복지원금과 관련해 고수해오던 ‘보편 지원’ 주장을 내려놨다. 정부여당을 향해 “차등 지원도 수용하겠다”며 이른 시일 내 협의하자고 제안한 것이다. 하지만 여당은 ‘차등 지원’을 전제로 하더라도 여전히 민생회복지원금 자체에 부정적인 모습이다. 민주당은 4·10 총선 때부터 ‘전 국민 25만원 지급’을 골자로 한 민생회복지원금 제도 시행을 촉구해왔다.이 대표는 29일 당 최고위원회의에서 “민생회복지원금은 소득 지원 효과도 있지만 지역·지방 소비를 늘려서 경제를 활성화하는 경제 정책이다. 반드시 지원해야 한다”며 “골목경제가 살아나면 정부여당 지지율도 올라가고 좋지 않냐”고 말했다.끝까지 대결 정치더불어민주당 이재명 대표(오른쪽)가 29일 서울 여의도 국회에서 열린 최고위원회의에서 윤석열 대통령과 이종섭 전 국방부 장관의 통화 사실을 보도한 자료를 보며 정청래 최고위원과 대화하고 있다. 남제현 선임기자이 대표는 윤석열 대통령과 정부여당을 향해 “우리가 지원금을 반드시 (전 국민에게) 똑같이 지급하라는 주장을 더 이상 하지 않겠다”며 “우리가 지향하는 가치는 보편 지원에 있긴 하지만 굳이 어렵다면 차등 지원도 수용하겠다”고 했다. 그러면서 고소득층 대상 매칭 지원 등 구체적 방안도 제시했다. 이 대표는 그간 고수해온 ‘보편 지원’ 원칙을 철회한 데 대해 “안 하는 것보다 낫기 때문”이라며 “우리가 양보할 테니 경기도 살리고 민생도 살리는 정책을 수용해주시고, 구체적 내용은 신속하게 만나서 협의하면 좋겠다”고 했다.이번 제안은 이 대표의 ‘실용 정치’ 행보의 일환으로 해석된다. 연금개혁안에 이어 민생 관련 사안에 대한 책임정당 모습을 선점하기 위한 포석이기도 하다. 민주당 한민수 대변인은 이날 이 대표 제안에 대해 “이 대표가 연금개혁에 이어 다시 한 번 양보한 안을 냈다”며 “민생과 경제를 책임지는 대통령과 정부여당의 답이 있을 것”이라고 말했다. 이 대표는 여야가 연금개혁과 관련해 이견을 보이던 소득대체율과 관련해 여당안인 ‘44%안’을 수용하겠단 뜻을 밝히며 연금개혁 처리를 압박했지만, 대통령실과 여당이 협상에 응하지 않으면서 21대 국회 임기 내 연금개혁 처리가 불발된 터다.민주당은 30일 22대 국회 첫 의원총회를 열고 민생회복지원금 지급을 포함한 민생위기특별조치법을 당론으로 채택한 뒤 발의할 예정이다.끝까지 대결 정치국민의힘 추경호 원내대표(오른쪽)가 29일 서울 여의도 국회에서 열린 기자간담회에서 야당이 단독 처리한 5개 법안 중 세월호지원법을 제외한 4개 법안에 대통령의 재의요구권을 건의하겠다고 밝히고 있다. 남제현 선임기자다만 여당에선 이 대표 제안에 대해 부정적 기류가 여전히 강한 모습이다. 국민의힘 추경호 원내대표는 이날 기자간담회에서 이 대표 제안과 관련해 “민생회복지원금 관련해서는 입장을 여러 차례 말씀드렸다. 그걸로 대신하겠다”고 답했다. 국민의힘은 최근 민주당 진성준 정책위의장이 선별 지원 협의 가능성을 언급한 데 대해 “추경으로 빚내서 현금 지원하겠다는 발상은 결코 해결책이 될 수 없다”고 비판한 바 있다.'"
      ]
     },
     "execution_count": 43,
     "metadata": {},
     "output_type": "execute_result"
    }
   ],
   "source": [
    "target_article"
   ]
  },
  {
   "cell_type": "markdown",
   "id": "2d809526-48a6-418d-9654-f45d681a899a",
   "metadata": {},
   "source": [
    "### 요약모델 이용해서 테스트 뉴스의 요약본 추출"
   ]
  },
  {
   "cell_type": "code",
   "execution_count": 46,
   "id": "43c0789e-380b-46e3-b1e3-d793a146c668",
   "metadata": {},
   "outputs": [
    {
     "name": "stderr",
     "output_type": "stream",
     "text": [
      "Some weights of BertModel were not initialized from the model checkpoint at jinmang2/kpfbert and are newly initialized: ['pooler.dense.weight', 'pooler.dense.bias']\n",
      "You should probably TRAIN this model on a down-stream task to be able to use it for predictions and inference.\n"
     ]
    }
   ],
   "source": [
    "# 훈련된 요약 모델 로드\n",
    "trained_model = Summarizer.load_from_checkpoint(\n",
    "    'checkpoints/best-checkpoint.ckpt'\n",
    ")\n",
    "trained_model.eval()\n",
    "trained_model.freeze()\n",
    "\n",
    "# 문장 분리 함수\n",
    "def data_process(text):\n",
    "    # 문장 분리 하고,\n",
    "    sents = kss.split_sentences(text)\n",
    "\n",
    "    # 데이터 가공하고,\n",
    "    tokenlist = []\n",
    "    for sent in sents:\n",
    "        tokenlist.append(tokenizer(\n",
    "            text=sent,\n",
    "            add_special_tokens=True))  # , # Add '[CLS]' and '[SEP]'\n",
    "\n",
    "    src = []  # 토크나이징 된 전체 문단\n",
    "    labels = []  # 요약문에 해당하면 1, 아니면 0으로 문장수 만큼 생성\n",
    "    segs = []  # 각 토큰에 대해 홀수번째 문장이면 0, 짝수번째 문장이면 1을 매핑\n",
    "    clss = []  # [CLS]토큰의 포지션값을 지정\n",
    "\n",
    "    odd = 0\n",
    "\n",
    "    for tkns in tokenlist:\n",
    "\n",
    "        if odd > 1:\n",
    "            odd = 0\n",
    "        clss = clss + [len(src)]\n",
    "        src = src + tkns['input_ids']\n",
    "        segs = segs + [odd] * len(tkns['input_ids'])\n",
    "        odd += 1\n",
    "\n",
    "        # truncation\n",
    "        if len(src) == MAX_TOKEN_COUNT:\n",
    "            break\n",
    "        elif len(src) > MAX_TOKEN_COUNT:\n",
    "            src = src[:MAX_TOKEN_COUNT - 1] + [src[-1]]\n",
    "            segs = segs[:MAX_TOKEN_COUNT]\n",
    "            break\n",
    "\n",
    "    # padding\n",
    "    if len(src) < MAX_TOKEN_COUNT:\n",
    "        src = src + [0]*(MAX_TOKEN_COUNT - len(src))\n",
    "        segs = segs + [0]*(MAX_TOKEN_COUNT - len(segs))\n",
    "\n",
    "    if len(clss) < MAX_TOKEN_COUNT:\n",
    "        clss = clss + [-1]*(MAX_TOKEN_COUNT - len(clss))\n",
    "\n",
    "    return dict(\n",
    "        sents=sents,  # 정답 출력을 위해...\n",
    "        src=torch.tensor(src),\n",
    "        segs=torch.tensor(segs),\n",
    "        clss=torch.tensor(clss),\n",
    "    )\n",
    "\n",
    "# 요약본 추출 함수\n",
    "def summarize_test(text):\n",
    "    data = data_process(text.replace('\\n', ''))\n",
    "\n",
    "    # trained_model에 넣어 결과값 반환\n",
    "    _, rtn = trained_model(data['src'].unsqueeze(\n",
    "        0), data['segs'].unsqueeze(0), data['clss'].unsqueeze(0))\n",
    "    rtn = rtn.squeeze()\n",
    "\n",
    "    # 예측 결과값을 받기 위한 프로세스\n",
    "    rtn_sort, idx = rtn.sort(descending=True)\n",
    "\n",
    "    rtn_sort = rtn_sort.tolist()\n",
    "    idx = idx.tolist()\n",
    "\n",
    "    end_idx = rtn_sort.index(0)\n",
    "\n",
    "    rtn_sort = rtn_sort[:end_idx]\n",
    "    idx = idx[:end_idx]\n",
    "\n",
    "    if len(idx) > 3:\n",
    "        rslt = idx[:3]\n",
    "    else:\n",
    "        rslt = idx\n",
    "\n",
    "    summ = []\n",
    "    for i, r in enumerate(rslt):\n",
    "        summ.append(data['sents'][r])\n",
    "\n",
    "    return summ\n",
    "\n",
    "# 요약본 결과 반환\n",
    "def summarize_article(target_article):\n",
    "    target_summary = summarize_test(target_article)\n",
    "    return target_summary\n"
   ]
  },
  {
   "cell_type": "code",
   "execution_count": 47,
   "id": "8a830588-8981-48ce-9090-3085b48686be",
   "metadata": {},
   "outputs": [
    {
     "name": "stderr",
     "output_type": "stream",
     "text": [
      "[Kss]: Oh! You have mecab in your environment. Kss will take this as a backend! :D\n",
      "\n"
     ]
    }
   ],
   "source": [
    "target_summary=summarize_article(target_article)\n",
    "target_summary=\" \".join(target_summary)"
   ]
  },
  {
   "cell_type": "code",
   "execution_count": 48,
   "id": "17f66461-d724-4949-8c4a-2b3feac1787e",
   "metadata": {},
   "outputs": [
    {
     "data": {
      "text/plain": [
       "'끝까지 대결 정치더불어민주당 이재명 대표(오른쪽)가 29일 서울 여의도 국회에서 열린 최고위원회의에서 윤석열 대통령과 이종섭 전 국방부 장관의 통화 사실을 보도한 자료를 보며 정청래 최고위원과 대화하고 있다. 하지만 여당은 ‘차등 지원’을 전제로 하더라도 여전히 민생회복지원금 자체에 부정적인 모습이다. 정부여당을 향해 “차등 지원도 수용하겠다”며 이른 시일 내 협의하자고 제안한 것이다.'"
      ]
     },
     "execution_count": 48,
     "metadata": {},
     "output_type": "execute_result"
    }
   ],
   "source": [
    "target_summary"
   ]
  },
  {
   "cell_type": "markdown",
   "id": "be7bf1b1-52d8-4ed1-a603-c48f62229000",
   "metadata": {},
   "source": [
    "### 추출한 요약모델 임베딩"
   ]
  },
  {
   "cell_type": "code",
   "execution_count": 69,
   "id": "42161209-4e8a-4c80-b546-be22aaf65126",
   "metadata": {},
   "outputs": [],
   "source": [
    "model = SentenceTransformer('bongsoo/kpf-sbert-128d-v1')  # 임베딩 모델\n",
    "model.max_seq_length = 512"
   ]
  },
  {
   "cell_type": "code",
   "execution_count": 70,
   "id": "b1af141a-92a7-4bf1-adc3-7b33e81f9781",
   "metadata": {},
   "outputs": [],
   "source": [
    "target_summary_embedding = model.encode(target_summary,normalize_embeddings=True)"
   ]
  },
  {
   "cell_type": "code",
   "execution_count": 71,
   "id": "f172ff5f-9e7f-48ff-a4c1-b1935580eef8",
   "metadata": {},
   "outputs": [
    {
     "data": {
      "text/plain": [
       "array([ 3.10093164e-02, -3.68755311e-02, -5.35324099e-04, -3.35779712e-02,\n",
       "       -2.19038930e-02, -1.75029114e-02, -2.23033279e-02, -3.04866098e-02,\n",
       "       -4.65890318e-02, -3.49369347e-02, -1.65092070e-02,  2.03625672e-02,\n",
       "        9.16974212e-04,  2.83127348e-03, -5.92340250e-03, -4.95582707e-02,\n",
       "       -1.81318820e-02,  7.84873497e-03,  3.30301560e-02, -2.14625280e-02,\n",
       "       -2.28372924e-02, -1.10682147e-02,  1.80783048e-02,  5.09310188e-03,\n",
       "       -2.69092042e-02,  1.42356995e-02, -3.58653720e-03,  1.91453658e-02,\n",
       "       -2.27690637e-02, -6.11691028e-02, -1.59593653e-02, -2.41798088e-02,\n",
       "       -3.66650857e-02,  1.79143716e-02, -7.76262116e-03,  2.77487189e-03,\n",
       "        3.05721108e-02, -5.14521683e-03, -7.22295865e-02,  4.89203027e-03,\n",
       "        9.51736420e-02, -6.68471679e-02,  6.10487210e-03,  2.69953366e-02,\n",
       "        5.10011055e-03, -5.66309877e-02,  1.06887640e-02,  2.54672151e-02,\n",
       "        1.22373886e-01, -3.36873485e-03, -2.00330243e-02,  9.00158808e-02,\n",
       "        1.27286045e-02,  1.83102712e-02, -5.25686517e-02, -1.29455477e-01,\n",
       "        4.08525532e-03, -2.31076181e-02, -4.51756269e-02, -1.03089951e-01,\n",
       "        1.28766093e-02,  2.56021414e-02, -2.52095424e-02,  1.24891419e-02,\n",
       "       -6.89975619e-02, -4.07387391e-02,  2.97839325e-02,  9.20799933e-03,\n",
       "       -6.57098070e-02, -1.01632103e-02,  1.49927273e-01,  6.18727994e-04,\n",
       "       -4.30096723e-02,  4.81417961e-02,  2.63438206e-02,  8.27791393e-02,\n",
       "        4.62347493e-02, -1.70956887e-02,  1.75850617e-03, -8.01075622e-03,\n",
       "       -1.52066452e-02,  2.31681038e-02,  5.42825321e-03,  4.38983180e-02,\n",
       "       -3.85231189e-02,  8.20079073e-02, -1.03676440e-02,  2.51304209e-02,\n",
       "       -1.03082202e-04,  1.77623890e-02, -7.36661069e-03,  2.42668465e-02,\n",
       "       -1.68575812e-03, -2.67633591e-02,  1.21613182e-02, -4.88823606e-03,\n",
       "       -5.75784035e-02, -2.33961530e-02, -4.47751097e-02, -4.69949543e-02,\n",
       "        1.24914367e-02, -1.57281868e-02, -5.12764491e-02,  3.27389012e-03,\n",
       "        5.31552322e-02, -3.58029106e-03,  5.16994186e-02, -1.79182682e-02,\n",
       "        5.33680506e-02, -3.85372676e-02,  1.05798841e-01,  2.39446349e-02,\n",
       "       -8.95672012e-03,  3.40826549e-02, -1.83451325e-02, -7.83025660e-03,\n",
       "        5.23920245e-02, -1.98555202e-03, -4.51899096e-02, -9.40177590e-03,\n",
       "        1.23999016e-02,  1.90451015e-02,  2.73640058e-03, -3.91547307e-02,\n",
       "        7.75920413e-03,  7.18349067e-04, -2.57565416e-02, -1.20609184e-03,\n",
       "        4.15694807e-03,  4.07072296e-03,  9.34945652e-04,  1.74269211e-02,\n",
       "       -3.01740021e-02, -7.16002611e-03, -1.48714343e-02,  5.16215526e-02,\n",
       "        2.61960644e-02,  2.91367918e-02,  2.07737945e-02,  4.86672372e-02,\n",
       "       -8.52202103e-02,  1.44525589e-02,  9.00631212e-03, -2.47368626e-02,\n",
       "       -3.37206549e-03,  3.84581159e-03, -2.51238644e-02,  3.71844023e-02,\n",
       "        1.13443127e-02, -9.28969402e-03,  2.29504164e-02,  4.79999445e-02,\n",
       "        2.27719359e-02, -2.47025769e-02, -2.08752826e-02,  1.75604975e-04,\n",
       "       -9.95846931e-03,  2.91128028e-02,  2.57858512e-04, -4.38705422e-02,\n",
       "        5.43846041e-02,  1.43598150e-02, -2.78917067e-02, -3.47264227e-03,\n",
       "       -4.34986576e-02,  2.91207489e-02, -1.63698271e-02, -2.28308868e-02,\n",
       "       -2.11464595e-02, -4.29122113e-02,  1.37434658e-02, -3.66337448e-02,\n",
       "        3.63650545e-02, -3.91701981e-02,  9.31825675e-03,  5.82418405e-02,\n",
       "       -3.84406740e-04, -3.33747007e-02, -4.44883853e-02,  9.32376012e-02,\n",
       "       -1.95116177e-02,  4.71226797e-02,  1.19029721e-02, -4.63812891e-03,\n",
       "       -1.10726841e-02, -2.42840801e-03, -5.26912697e-02,  2.38563884e-02,\n",
       "        2.75528728e-04,  2.26520542e-02, -3.87190422e-03,  1.78949405e-02,\n",
       "        4.15625125e-02,  1.34875253e-02,  7.41208903e-03, -3.68700027e-02,\n",
       "        3.53069082e-02,  3.41247581e-02,  4.65320423e-03,  5.89753017e-02,\n",
       "       -1.82008855e-02, -3.36041227e-02, -5.67512736e-02, -1.16209788e-02,\n",
       "       -1.16268201e-02, -1.15498565e-02, -5.65082915e-02,  1.96005329e-02,\n",
       "        2.16704812e-02, -6.50196001e-02,  6.53294325e-02,  9.97385476e-03,\n",
       "        2.46174820e-03,  4.00853828e-02,  1.95450783e-02,  1.63370110e-02,\n",
       "       -7.93144852e-03,  3.65391299e-02, -5.62382750e-02,  2.34280154e-02,\n",
       "       -2.50169523e-02,  3.33779044e-02,  1.96070820e-02,  9.92253888e-03,\n",
       "        8.52659568e-02,  2.25359686e-02,  1.53766079e-02,  4.77386918e-03,\n",
       "        4.65684012e-02,  1.29243918e-02, -5.19047957e-04,  2.48797592e-02,\n",
       "        1.61907673e-02,  3.83623950e-02, -3.59328203e-02,  1.98522173e-02,\n",
       "       -2.05864608e-02, -8.61831680e-02, -1.28141686e-03, -5.56862690e-02,\n",
       "        1.14009399e-02,  9.87838674e-03, -4.22203168e-03,  6.37696916e-03,\n",
       "       -1.11505967e-02, -7.93229491e-02,  4.44190539e-02, -5.79301093e-04,\n",
       "       -1.83501970e-02,  4.27282341e-02, -2.00226903e-03, -6.47468492e-02,\n",
       "       -4.18550670e-02, -6.82875887e-03, -1.12297172e-02, -6.27915934e-02,\n",
       "        3.07654385e-02,  1.92742329e-02,  4.33992296e-02, -1.08520128e-02,\n",
       "       -1.09691061e-02, -8.83152243e-03, -8.06600414e-03, -2.50326656e-02,\n",
       "       -2.04840638e-02, -2.07899492e-02,  5.78730018e-04, -5.76345362e-02,\n",
       "       -1.42576545e-02, -5.69693930e-03, -1.17098652e-02, -2.79039629e-02,\n",
       "       -1.14323599e-02, -2.81883590e-02, -7.68325198e-03,  2.79416367e-02,\n",
       "       -6.06749207e-02,  3.89073454e-02, -6.37549674e-03, -3.86207700e-02,\n",
       "        3.41727994e-02,  8.94590542e-02,  2.11266801e-03, -2.13025622e-02,\n",
       "        2.00081710e-03, -2.91710757e-02, -1.28271533e-02, -1.55856952e-01,\n",
       "        9.28807072e-03,  3.78772356e-02, -6.26485497e-02,  2.18990911e-02,\n",
       "        1.49241528e-02, -3.54798920e-02, -8.40568729e-03,  3.53243835e-02,\n",
       "        5.90929277e-02, -2.14872546e-02, -9.36684664e-03,  6.04616404e-02,\n",
       "       -2.42461115e-02, -5.94768673e-04, -1.21071022e-02, -1.83902811e-02,\n",
       "       -2.82245744e-02,  2.73260754e-02,  7.94935040e-03,  4.72614169e-02,\n",
       "       -1.52654229e-02, -6.56140223e-03,  7.63610676e-02, -1.73299685e-02,\n",
       "        4.46432456e-02,  3.40707302e-02, -6.65900437e-03,  4.96662338e-04,\n",
       "        1.73952170e-02,  1.18526500e-02,  3.59715410e-02, -5.70199639e-02,\n",
       "       -2.94677950e-02,  1.36506921e-02,  3.98684107e-02,  7.65544176e-03,\n",
       "       -3.27515905e-03,  2.46521756e-02, -1.47573454e-02, -1.87062379e-02,\n",
       "        4.26653493e-03,  7.38447253e-03, -1.26955789e-02,  4.74445801e-03,\n",
       "        4.60565696e-03,  2.55834106e-02,  6.31069997e-03,  3.84436436e-02,\n",
       "        3.41465734e-02,  7.74434134e-02, -1.95358116e-02,  2.20786110e-02,\n",
       "       -3.64677683e-02,  3.38689121e-03, -3.19142193e-02, -2.91360319e-02,\n",
       "        4.46670270e-03, -3.53718102e-02, -8.07354450e-02,  4.14238274e-02,\n",
       "       -2.10890379e-02,  4.11817580e-02, -4.19521369e-02, -1.70222558e-02,\n",
       "       -2.67121033e-03,  6.75600069e-03, -1.04983635e-02, -2.42214054e-02,\n",
       "        7.74100563e-03, -1.16248671e-02, -3.26016196e-03,  2.31320140e-04,\n",
       "        5.53486757e-02, -3.48056667e-03, -4.14276980e-02,  1.19528137e-01,\n",
       "        6.57718405e-02, -4.41517644e-02,  6.19793981e-02,  1.26023348e-02,\n",
       "        3.57530117e-02,  2.25365697e-03,  3.50109451e-02,  2.90007573e-02,\n",
       "        1.11892689e-02,  3.45320590e-02, -3.78835044e-04, -4.43592705e-02,\n",
       "        1.52783273e-02, -1.14740636e-02, -2.47308938e-03,  4.42544743e-02,\n",
       "       -3.10078058e-02, -7.54681602e-02, -4.97183539e-02, -1.79001745e-02,\n",
       "        2.56733224e-02, -1.90644227e-02,  5.09679914e-02,  3.21705709e-04,\n",
       "        1.55153545e-03,  2.72630826e-02,  2.29677744e-02,  2.14007460e-02,\n",
       "        6.83183074e-02, -2.51336623e-05,  3.11595481e-03,  1.71596296e-02,\n",
       "        5.17784357e-02, -1.20712863e-02, -3.12886238e-02,  9.88255069e-03,\n",
       "        1.73404329e-02, -5.62251061e-02,  4.10707034e-02,  2.90404242e-02,\n",
       "        3.89964483e-03, -9.25239921e-03, -1.65212117e-02,  7.13465177e-03,\n",
       "        2.91064233e-02,  9.11207423e-02,  3.92265394e-02,  7.03054480e-03,\n",
       "       -6.40370548e-02,  4.35856394e-02,  4.18851934e-02, -8.18923339e-02,\n",
       "       -2.10337788e-02, -2.90095080e-02, -1.38484240e-02,  3.45264338e-02,\n",
       "        3.20318677e-02, -8.58133100e-03, -3.13584767e-02, -4.34402376e-02,\n",
       "        2.04926194e-03, -1.67654119e-02, -1.74642075e-02, -2.97582000e-02,\n",
       "        1.26055554e-02, -6.16393704e-03,  3.05291899e-02,  3.72055732e-03,\n",
       "       -1.76066195e-03,  5.33475503e-02,  5.10056783e-03,  7.49818087e-02,\n",
       "       -3.77261080e-03,  2.46181432e-02,  2.74227513e-03, -1.34517085e-02,\n",
       "        1.72164477e-02,  5.36038354e-03,  1.78178698e-02,  9.66107193e-03,\n",
       "       -2.02464573e-02, -6.98364675e-02,  6.29175780e-03,  1.30124763e-02,\n",
       "        2.33624093e-02,  7.85343058e-04, -4.62975502e-02, -1.81048829e-02,\n",
       "       -4.98954952e-03,  1.96122192e-02, -6.85132816e-02, -2.89989635e-03,\n",
       "       -9.12954733e-02, -3.82966697e-02,  2.33340245e-02,  2.77365698e-03,\n",
       "       -1.23935165e-02,  3.17297913e-02, -2.59869061e-02, -9.10643023e-03,\n",
       "        1.37479221e-02,  1.88060496e-02, -2.80289017e-02,  1.61508117e-02,\n",
       "       -1.33438921e-02,  1.83523726e-02,  3.04280338e-03, -1.00024766e-03,\n",
       "        3.46000083e-02,  2.02873014e-02,  2.47844253e-02,  5.25400229e-03,\n",
       "       -1.71471909e-02,  3.57294977e-02,  3.82745974e-02,  2.35147160e-02,\n",
       "        8.12804513e-03,  3.75596546e-02, -4.10280190e-03, -7.99520090e-02,\n",
       "        1.08720800e-02, -3.03208288e-02, -1.63603816e-02, -3.80076095e-02,\n",
       "       -4.24114428e-02,  4.12596129e-02, -1.66455656e-02, -5.36899939e-02,\n",
       "       -5.12508163e-03, -5.62652759e-03, -1.18251136e-02,  3.73900570e-02,\n",
       "       -7.28997588e-02,  4.39045578e-02,  1.09621555e-01,  4.54019010e-02,\n",
       "        5.63410744e-02, -2.18456574e-02, -1.87485982e-02,  3.65893939e-03,\n",
       "       -8.68963916e-03, -3.94617021e-02, -2.17468082e-03,  2.30336785e-02,\n",
       "       -9.82021168e-03,  1.79497600e-02,  3.25914659e-02,  3.62296961e-02,\n",
       "       -7.84569141e-03, -5.24299219e-02, -1.23883169e-02, -6.75935484e-03,\n",
       "        6.64157839e-03,  3.34706120e-02,  2.09415220e-02,  1.06655927e-02,\n",
       "        8.70791450e-03,  7.98456743e-03, -1.36513934e-02, -5.65416738e-02,\n",
       "       -6.10565841e-02, -1.01565523e-02, -9.23112407e-03,  3.57091650e-02,\n",
       "       -1.99073218e-02, -2.37310212e-02,  6.23203963e-02,  3.76619399e-02,\n",
       "       -7.18675852e-02,  2.42973473e-02, -2.06053685e-02, -1.23179227e-01,\n",
       "       -4.96361442e-02,  3.82570587e-02, -3.56727676e-03, -1.07018491e-02,\n",
       "       -2.72704083e-02, -7.42736086e-02, -6.82029426e-02, -1.19722355e-02,\n",
       "        5.92207257e-03,  2.88987812e-03,  4.64726612e-02, -6.46206811e-02,\n",
       "       -1.63188390e-02,  2.96446700e-02,  8.32723919e-03, -3.75192463e-02,\n",
       "        1.00994669e-01, -3.91378589e-02,  1.90296862e-02, -1.89203694e-02,\n",
       "        6.06378959e-03, -2.57481392e-02,  1.97576103e-03, -3.59849917e-04,\n",
       "       -5.43603599e-02, -6.37114272e-02, -1.77900102e-02,  1.32354740e-02,\n",
       "       -4.46092337e-02,  7.60638714e-03, -7.79757090e-03,  4.75226119e-02,\n",
       "        3.00358832e-02,  5.15201241e-02, -3.03857569e-02, -3.25311646e-02,\n",
       "        2.21530325e-03,  3.40521783e-02, -2.19192449e-02,  2.68450211e-04,\n",
       "        2.17155963e-02,  3.48326899e-02, -8.12007394e-03,  1.19887620e-01,\n",
       "        9.82650891e-02,  4.35523167e-02,  9.81108099e-03,  3.03320698e-02,\n",
       "       -1.42825453e-03, -1.64955258e-02, -4.69007567e-02, -3.01491600e-02,\n",
       "       -1.27559928e-02,  2.14879680e-02, -1.38437944e-02, -8.43649060e-02,\n",
       "        2.35234592e-02,  3.13074328e-02, -2.35471446e-02,  4.37555499e-02,\n",
       "        6.87026978e-02,  5.06869741e-02, -6.84692198e-03,  7.75227370e-03,\n",
       "       -2.27569118e-02,  6.29858896e-02,  1.23399496e-02, -7.35591538e-03,\n",
       "        1.71876326e-02,  4.50468808e-02, -7.81898107e-03,  2.87343170e-02,\n",
       "        1.76075399e-02, -3.23771276e-02, -1.37028797e-02, -2.10944656e-02,\n",
       "        2.35780850e-02, -7.87318945e-02,  2.09553391e-02,  8.70572776e-03,\n",
       "       -2.57641170e-02,  1.03069758e-02, -1.69658265e-03, -1.20914122e-02,\n",
       "        2.20794864e-02,  8.37625843e-03, -4.19503525e-02,  1.19440816e-02,\n",
       "       -1.03435256e-02, -8.43970999e-02, -2.84727886e-02, -4.85081859e-02,\n",
       "        1.94607920e-03, -9.74605456e-02,  5.90902846e-03, -3.44745852e-02,\n",
       "        8.82385205e-03, -1.80262104e-02,  1.28380547e-04, -3.02290972e-02,\n",
       "       -9.23685171e-03, -1.55639574e-02,  3.81401479e-02, -3.05359997e-02,\n",
       "       -2.44703293e-02,  4.78819869e-02,  1.86397769e-02,  1.56236365e-02,\n",
       "        1.50689138e-02, -3.69314216e-02,  2.22256016e-02, -3.53003554e-02,\n",
       "       -1.35953808e-02, -1.70510088e-03,  1.91366877e-02, -3.21108885e-02,\n",
       "       -1.79289728e-02,  3.90303545e-02, -1.23381848e-02, -1.61303449e-02,\n",
       "       -1.82826556e-02,  1.79663114e-02, -4.16649804e-02,  3.44649665e-02,\n",
       "       -3.33902985e-02, -1.55769130e-02,  6.76120631e-03, -5.44469953e-02,\n",
       "       -3.25455517e-02,  3.08150481e-02, -2.18245257e-02,  5.00729084e-02,\n",
       "        1.49251912e-02,  3.81437503e-02,  4.64603417e-02, -7.03157159e-04,\n",
       "        4.57369257e-03,  4.16345298e-02, -4.28038426e-02, -6.15469413e-03,\n",
       "       -5.65304793e-02,  3.84824686e-02, -3.51341590e-02, -1.81629527e-02,\n",
       "       -1.38346816e-03,  4.09705611e-03, -6.32170811e-02,  9.98058729e-03,\n",
       "       -9.42676291e-02,  4.34031058e-03, -9.76850651e-03,  1.45801157e-02,\n",
       "        1.35812396e-03, -7.65872560e-03, -1.72448754e-02,  4.88692522e-02,\n",
       "        8.05767924e-02,  6.93197316e-03,  7.53610348e-03, -1.76302809e-02,\n",
       "        2.76374840e-03,  3.85538675e-02, -2.90356223e-02,  7.68168131e-03,\n",
       "       -4.39757705e-02,  2.43200269e-03, -1.11958339e-04, -1.62814017e-02,\n",
       "       -3.34009007e-02, -3.46389860e-02, -3.00357621e-02, -1.08054569e-02,\n",
       "        4.81948256e-02, -6.37939423e-02, -3.41479816e-02,  2.25490667e-02,\n",
       "        8.42356682e-03, -9.19859391e-03,  6.10946231e-02, -1.36417458e-02,\n",
       "        2.74974909e-02, -4.70303843e-04,  5.56156076e-02, -4.08987552e-02,\n",
       "       -6.06249161e-02, -1.07167363e-02,  7.78952148e-04,  1.58203468e-02,\n",
       "        1.85860675e-02, -2.36442294e-02, -2.17696000e-02,  3.94009566e-03,\n",
       "       -2.14389097e-02, -4.75102514e-02,  2.06843130e-02, -5.01353247e-03,\n",
       "        3.56495678e-02,  3.84266488e-02, -3.65136638e-02, -1.69155709e-02,\n",
       "       -2.14167852e-02,  1.71219725e-02, -1.19087063e-02,  2.41465811e-02,\n",
       "       -4.18579429e-02,  2.85155829e-02,  4.45354544e-02, -7.19593512e-03,\n",
       "       -2.19242312e-02, -1.91794112e-02, -1.98206697e-02, -6.06375095e-03,\n",
       "        3.55098322e-02,  1.64077580e-02,  1.22791547e-02,  5.23742698e-02,\n",
       "        8.69788453e-02,  5.24896234e-02, -4.26705070e-02, -4.52963710e-02,\n",
       "        2.51368620e-02,  2.15766337e-02,  2.70132292e-02, -2.92888153e-02,\n",
       "       -2.69653760e-02, -2.55001169e-02, -2.58777980e-02,  2.44592652e-02,\n",
       "        1.17199207e-02, -2.33015046e-02,  3.89513560e-02, -4.08155983e-03],\n",
       "      dtype=float32)"
      ]
     },
     "execution_count": 71,
     "metadata": {},
     "output_type": "execute_result"
    }
   ],
   "source": [
    "target_summary_embedding"
   ]
  },
  {
   "cell_type": "markdown",
   "id": "43486f44-c560-4690-9d59-2a170ff6b20a",
   "metadata": {},
   "source": [
    "### 테스트 요약 임베딩과 수집 기사 요약 임베딩 유사도 비교"
   ]
  },
  {
   "cell_type": "code",
   "execution_count": 53,
   "id": "f3804283-f46a-4957-954e-2a468cc1c3b2",
   "metadata": {},
   "outputs": [],
   "source": [
    "# 피어슨 상관계수 구하기\n",
    "def pearson_similarity(a, b):\n",
    "    return np.dot((a-np.mean(a)), (b-np.mean(b)))/((np.linalg.norm(a-np.mean(a)))*(np.linalg.norm(b-np.mean(b))))"
   ]
  },
  {
   "cell_type": "code",
   "execution_count": 55,
   "id": "00754be7-6bcd-4114-a2bf-4e8d1a5fefa8",
   "metadata": {},
   "outputs": [
    {
     "ename": "ValueError",
     "evalue": "shapes (768,) and (128,) not aligned: 768 (dim 0) != 128 (dim 0)",
     "output_type": "error",
     "traceback": [
      "\u001b[1;31m---------------------------------------------------------------------------\u001b[0m",
      "\u001b[1;31mValueError\u001b[0m                                Traceback (most recent call last)",
      "Cell \u001b[1;32mIn[55], line 5\u001b[0m\n\u001b[0;32m      3\u001b[0m similar_list \u001b[38;5;241m=\u001b[39m []\n\u001b[0;32m      4\u001b[0m \u001b[38;5;28;01mfor\u001b[39;00m i \u001b[38;5;129;01min\u001b[39;00m \u001b[38;5;28mrange\u001b[39m(\u001b[38;5;28mlen\u001b[39m(summary_embedding_dataset)):\n\u001b[1;32m----> 5\u001b[0m     similarity \u001b[38;5;241m=\u001b[39m \u001b[43mpearson_similarity\u001b[49m\u001b[43m(\u001b[49m\u001b[43mtarget_summary_embedding\u001b[49m\u001b[43m,\u001b[49m\u001b[43m \u001b[49m\u001b[43msummary_embedding_dataset\u001b[49m\u001b[43m[\u001b[49m\u001b[43mi\u001b[49m\u001b[43m]\u001b[49m\u001b[43m)\u001b[49m\n\u001b[0;32m      7\u001b[0m     \u001b[38;5;28;01mif\u001b[39;00m similarity \u001b[38;5;241m>\u001b[39m threshold:\n\u001b[0;32m      8\u001b[0m         similar_list\u001b[38;5;241m.\u001b[39mappend((similarity, i)) \u001b[38;5;66;03m# threshold 이상이면 유사한 기사 리스트에 추가\u001b[39;00m\n",
      "Cell \u001b[1;32mIn[53], line 3\u001b[0m, in \u001b[0;36mpearson_similarity\u001b[1;34m(a, b)\u001b[0m\n\u001b[0;32m      2\u001b[0m \u001b[38;5;28;01mdef\u001b[39;00m \u001b[38;5;21mpearson_similarity\u001b[39m(a, b):\n\u001b[1;32m----> 3\u001b[0m     \u001b[38;5;28;01mreturn\u001b[39;00m \u001b[43mnp\u001b[49m\u001b[38;5;241;43m.\u001b[39;49m\u001b[43mdot\u001b[49m\u001b[43m(\u001b[49m\u001b[43m(\u001b[49m\u001b[43ma\u001b[49m\u001b[38;5;241;43m-\u001b[39;49m\u001b[43mnp\u001b[49m\u001b[38;5;241;43m.\u001b[39;49m\u001b[43mmean\u001b[49m\u001b[43m(\u001b[49m\u001b[43ma\u001b[49m\u001b[43m)\u001b[49m\u001b[43m)\u001b[49m\u001b[43m,\u001b[49m\u001b[43m \u001b[49m\u001b[43m(\u001b[49m\u001b[43mb\u001b[49m\u001b[38;5;241;43m-\u001b[39;49m\u001b[43mnp\u001b[49m\u001b[38;5;241;43m.\u001b[39;49m\u001b[43mmean\u001b[49m\u001b[43m(\u001b[49m\u001b[43mb\u001b[49m\u001b[43m)\u001b[49m\u001b[43m)\u001b[49m\u001b[43m)\u001b[49m\u001b[38;5;241m/\u001b[39m((np\u001b[38;5;241m.\u001b[39mlinalg\u001b[38;5;241m.\u001b[39mnorm(a\u001b[38;5;241m-\u001b[39mnp\u001b[38;5;241m.\u001b[39mmean(a)))\u001b[38;5;241m*\u001b[39m(np\u001b[38;5;241m.\u001b[39mlinalg\u001b[38;5;241m.\u001b[39mnorm(b\u001b[38;5;241m-\u001b[39mnp\u001b[38;5;241m.\u001b[39mmean(b))))\n",
      "\u001b[1;31mValueError\u001b[0m: shapes (768,) and (128,) not aligned: 768 (dim 0) != 128 (dim 0)"
     ]
    }
   ],
   "source": [
    "# 피어슨 상관계수 기반으로 계산\n",
    "threshold = 0.55  # 최소 유사도 threshold\n",
    "similar_list = []\n",
    "for i in range(len(summary_embedding_dataset)):\n",
    "    similarity = pearson_similarity(target_summary_embedding, summary_embedding_dataset[i])\n",
    "\n",
    "    if similarity > threshold:\n",
    "        similar_list.append((similarity, i)) # threshold 이상이면 유사한 기사 리스트에 추가\n",
    "\n",
    "# 유사도 기준 내림차순 정렬\n",
    "sorted_similar_list = sorted(similar_list, key=lambda x: x[0], reverse=True)\n",
    "\n",
    "# 100개 이상이면 100개만 추려서 반환\n",
    "if len(similar_list) > 100:\n",
    "    similar_index_list=[item[1] for item in sorted_similar_list[:100]]\n",
    "\n",
    "# 100개 이하면 모두 반환\n",
    "else:\n",
    "    similar_index_list=[item[1] for item in sorted_similar_list]"
   ]
  },
  {
   "cell_type": "code",
   "execution_count": null,
   "id": "d2123b84-08ea-4116-99a1-58d138a6ad2a",
   "metadata": {},
   "outputs": [],
   "source": [
    "print(similar_index_list) # 유사한 기사들의 index"
   ]
  },
  {
   "cell_type": "markdown",
   "id": "59d41dd5-41c5-4920-9cd0-8c9f559fb79c",
   "metadata": {},
   "source": [
    "### 테스트 기사의 단락 생성\n",
    "- 1 단락 = 3 문장"
   ]
  },
  {
   "cell_type": "code",
   "execution_count": null,
   "id": "0f2ac48c-62dd-4f3c-a21d-5d5be341790b",
   "metadata": {},
   "outputs": [],
   "source": [
    "def split_into_paragraphs(article, sentences_per_paragraph=3):\n",
    "    sentences = kss.split_sentences(article)\n",
    "    paragraphs = []\n",
    "    paragraph = []\n",
    "\n",
    "    for sentence in sentences:\n",
    "        if len(sentence) > 20:\n",
    "            # 보통 한 줄에 20자 정도 넘어가야 유의미한 정보가 포함된 문장임\n",
    "            paragraph.append(sentence)\n",
    "        if len(paragraph) == sentences_per_paragraph:  # 3줄 이상이면\n",
    "            paragraphs.append(\" \".join(paragraph))  # 3줄을 하나로 합치기\n",
    "            paragraph = []\n",
    "\n",
    "        # 남아있는 문장들 중 20자가 넘어가면 단락으로 추가\n",
    "    if paragraph and len(paragraph) > 20:\n",
    "        paragraphs.append(\" \".join(paragraph))\n",
    "\n",
    "    return paragraphs  # 단락 데이터 반환"
   ]
  },
  {
   "cell_type": "code",
   "execution_count": 60,
   "id": "d33650c7-76a7-47f7-9258-957a1e47888c",
   "metadata": {},
   "outputs": [
    {
     "data": {
      "text/plain": [
       "(128,)"
      ]
     },
     "execution_count": 60,
     "metadata": {},
     "output_type": "execute_result"
    }
   ],
   "source": [
    "summary_embedding_dataset[0].shape"
   ]
  },
  {
   "cell_type": "code",
   "execution_count": 65,
   "id": "d1f6c399-1914-48e4-97ab-017ed8773301",
   "metadata": {},
   "outputs": [
    {
     "data": {
      "text/plain": [
       "(768,)"
      ]
     },
     "execution_count": 65,
     "metadata": {},
     "output_type": "execute_result"
    }
   ],
   "source": [
    "target_summary_embedding.shape"
   ]
  },
  {
   "cell_type": "code",
   "execution_count": null,
   "id": "471ad700-94a5-4393-a7e3-55bb7431e8e5",
   "metadata": {},
   "outputs": [],
   "source": []
  },
  {
   "cell_type": "code",
   "execution_count": null,
   "id": "50f668ea-7a21-4c3c-9469-f9e61ebc5824",
   "metadata": {},
   "outputs": [],
   "source": []
  },
  {
   "cell_type": "code",
   "execution_count": null,
   "id": "46633ccb-f976-4cec-a009-87f000483d0b",
   "metadata": {},
   "outputs": [],
   "source": []
  }
 ],
 "metadata": {
  "kernelspec": {
   "display_name": "Python 3 (ipykernel)",
   "language": "python",
   "name": "python3"
  },
  "language_info": {
   "codemirror_mode": {
    "name": "ipython",
    "version": 3
   },
   "file_extension": ".py",
   "mimetype": "text/x-python",
   "name": "python",
   "nbconvert_exporter": "python",
   "pygments_lexer": "ipython3",
   "version": "3.9.18"
  }
 },
 "nbformat": 4,
 "nbformat_minor": 5
}
